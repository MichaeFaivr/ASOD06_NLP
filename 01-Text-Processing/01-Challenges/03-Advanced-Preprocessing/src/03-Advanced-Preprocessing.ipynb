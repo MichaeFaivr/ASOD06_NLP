{
 "cells": [
  {
   "cell_type": "markdown",
   "metadata": {},
   "source": [
    "# 03-Advanced Preprocessing"
   ]
  },
  {
   "cell_type": "markdown",
   "metadata": {},
   "source": [
    "![](https://images.unsplash.com/photo-1520157446536-30f192369cb5?ixlib=rb-1.2.1&ixid=eyJhcHBfaWQiOjEyMDd9&auto=format&fit=crop&w=1050&q=80)\n",
    "\n",
    "Photo by [bady qb](https://unsplash.com/photos/Z1pAofkalYY)"
   ]
  },
  {
   "cell_type": "markdown",
   "metadata": {},
   "source": [
    "This simple exercise is just a short example of n-grams computation, and then some basic preprocessing using regular expressions."
   ]
  },
  {
   "cell_type": "markdown",
   "metadata": {},
   "source": [
    "Begin by importing needed libraries:"
   ]
  },
  {
   "cell_type": "code",
   "execution_count": 1,
   "metadata": {},
   "outputs": [],
   "source": [
    "# TODO: import needed libraries\n",
    "from nltk.tokenize import word_tokenize\n",
    "import pandas as pd\n",
    "import numpy as np\n",
    "import nltk\n"
   ]
  },
  {
   "cell_type": "markdown",
   "metadata": {},
   "source": [
    "We will use some basic text:\n",
    "```\n",
    "Today is gonna be the day\n",
    "That they're gonna throw it back to you\n",
    "By now you should've somehow\n",
    "Realized what you gotta do\n",
    "I don't believe that anybody\n",
    "Feels the way I do, about you now\n",
    "```\n",
    "\n",
    "Put that text in a variable"
   ]
  },
  {
   "cell_type": "code",
   "execution_count": 14,
   "metadata": {},
   "outputs": [
    {
     "data": {
      "text/plain": [
       "\"Today is gonna be the day\\n        That they're gonna throw it back to you\\n        By now you should've somehow\\n        Realized what you gotta do\\n        I don't believe that anybody\\n        Feels the way I do, about you now\""
      ]
     },
     "execution_count": 14,
     "metadata": {},
     "output_type": "execute_result"
    }
   ],
   "source": [
    "# TODO: Put the text into a variable\n",
    "# utiliser les trples quotes dans ce cas !\n",
    "texte = '''Today is gonna be the day\n",
    "        That they're gonna throw it back to you\n",
    "        By now you should've somehow\n",
    "        Realized what you gotta do\n",
    "        I don't believe that anybody\n",
    "        Feels the way I do, about you now'''\n",
    "texte\n"
   ]
  },
  {
   "cell_type": "markdown",
   "metadata": {},
   "source": [
    "Now compute the tokenization of this text using unigrams of words"
   ]
  },
  {
   "cell_type": "code",
   "execution_count": 16,
   "metadata": {
    "scrolled": true
   },
   "outputs": [
    {
     "data": {
      "text/plain": [
       "['Today',\n",
       " 'is',\n",
       " 'gon',\n",
       " 'na',\n",
       " 'be',\n",
       " 'the',\n",
       " 'day',\n",
       " 'That',\n",
       " 'they',\n",
       " \"'re\",\n",
       " 'gon',\n",
       " 'na',\n",
       " 'throw',\n",
       " 'it',\n",
       " 'back',\n",
       " 'to',\n",
       " 'you',\n",
       " 'By',\n",
       " 'now',\n",
       " 'you',\n",
       " 'should',\n",
       " \"'ve\",\n",
       " 'somehow',\n",
       " 'Realized',\n",
       " 'what',\n",
       " 'you',\n",
       " 'got',\n",
       " 'ta',\n",
       " 'do',\n",
       " 'I',\n",
       " 'do',\n",
       " \"n't\",\n",
       " 'believe',\n",
       " 'that',\n",
       " 'anybody',\n",
       " 'Feels',\n",
       " 'the',\n",
       " 'way',\n",
       " 'I',\n",
       " 'do',\n",
       " ',',\n",
       " 'about',\n",
       " 'you',\n",
       " 'now']"
      ]
     },
     "execution_count": 16,
     "metadata": {},
     "output_type": "execute_result"
    }
   ],
   "source": [
    "# TODO: Print unigrams of words of this text\n",
    "# Unigrams of words (one word):\n",
    "# Tokenize the text\n",
    "tokens = word_tokenize(texte)\n",
    "tokens"
   ]
  },
  {
   "cell_type": "markdown",
   "metadata": {},
   "source": [
    "Now compute and print the bigrams and then the trigrams of the words of this text"
   ]
  },
  {
   "cell_type": "code",
   "execution_count": 18,
   "metadata": {
    "scrolled": true
   },
   "outputs": [
    {
     "data": {
      "text/plain": [
       "[('Today', 'is', 'gon'),\n",
       " ('is', 'gon', 'na'),\n",
       " ('gon', 'na', 'be'),\n",
       " ('na', 'be', 'the'),\n",
       " ('be', 'the', 'day'),\n",
       " ('the', 'day', 'That'),\n",
       " ('day', 'That', 'they'),\n",
       " ('That', 'they', \"'re\"),\n",
       " ('they', \"'re\", 'gon'),\n",
       " (\"'re\", 'gon', 'na'),\n",
       " ('gon', 'na', 'throw'),\n",
       " ('na', 'throw', 'it'),\n",
       " ('throw', 'it', 'back'),\n",
       " ('it', 'back', 'to'),\n",
       " ('back', 'to', 'you'),\n",
       " ('to', 'you', 'By'),\n",
       " ('you', 'By', 'now'),\n",
       " ('By', 'now', 'you'),\n",
       " ('now', 'you', 'should'),\n",
       " ('you', 'should', \"'ve\"),\n",
       " ('should', \"'ve\", 'somehow'),\n",
       " (\"'ve\", 'somehow', 'Realized'),\n",
       " ('somehow', 'Realized', 'what'),\n",
       " ('Realized', 'what', 'you'),\n",
       " ('what', 'you', 'got'),\n",
       " ('you', 'got', 'ta'),\n",
       " ('got', 'ta', 'do'),\n",
       " ('ta', 'do', 'I'),\n",
       " ('do', 'I', 'do'),\n",
       " ('I', 'do', \"n't\"),\n",
       " ('do', \"n't\", 'believe'),\n",
       " (\"n't\", 'believe', 'that'),\n",
       " ('believe', 'that', 'anybody'),\n",
       " ('that', 'anybody', 'Feels'),\n",
       " ('anybody', 'Feels', 'the'),\n",
       " ('Feels', 'the', 'way'),\n",
       " ('the', 'way', 'I'),\n",
       " ('way', 'I', 'do'),\n",
       " ('I', 'do', ','),\n",
       " ('do', ',', 'about'),\n",
       " (',', 'about', 'you'),\n",
       " ('about', 'you', 'now')]"
      ]
     },
     "execution_count": 18,
     "metadata": {},
     "output_type": "execute_result"
    }
   ],
   "source": [
    "# TODO: Print bigrams and trigrams\n",
    "list(nltk.bigrams(tokens))\n",
    "\n",
    "list(nltk.trigrams(tokens))"
   ]
  },
  {
   "cell_type": "markdown",
   "metadata": {},
   "source": [
    "Now we will make regular expression preprocessing.\n",
    "\n",
    "We want to implement the function `is_phone_number(text)` that takes into account a string and returns `True` if the string is a phone number, False otherwise. For this exercise, we will suppose a phone number has to begin with a '0' and have 10 digits."
   ]
  },
  {
   "cell_type": "code",
   "execution_count": 44,
   "metadata": {},
   "outputs": [],
   "source": [
    "# TODO: Implement the function is_phone_number\n",
    "# REGEX\n",
    "import re\n",
    "\n",
    "def is_phone_number(texte):\n",
    "    if len(texte) != 10:\n",
    "        return False\n",
    "    reg_list = re.findall(r\"0\\d{9}$\", texte)\n",
    "    if len(reg_list) == 0:\n",
    "        return False\n",
    "    return texte == re.findall(r\"0\\d{9}$\", texte)[0]"
   ]
  },
  {
   "cell_type": "code",
   "execution_count": 47,
   "metadata": {},
   "outputs": [
    {
     "data": {
      "text/plain": [
       "True"
      ]
     },
     "execution_count": 47,
     "metadata": {},
     "output_type": "execute_result"
    }
   ],
   "source": [
    "test = is_phone_number('0123456789')\n",
    "test"
   ]
  },
  {
   "cell_type": "markdown",
   "metadata": {},
   "source": [
    "Now test your function with some values to check if it works well."
   ]
  },
  {
   "cell_type": "code",
   "execution_count": 33,
   "metadata": {},
   "outputs": [
    {
     "ename": "AssertionError",
     "evalue": "",
     "output_type": "error",
     "traceback": [
      "\u001b[0;31m---------------------------------------------------------------------------\u001b[0m",
      "\u001b[0;31mAssertionError\u001b[0m                            Traceback (most recent call last)",
      "Cell \u001b[0;32mIn [33], line 1\u001b[0m\n\u001b[0;32m----> 1\u001b[0m \u001b[38;5;28;01massert\u001b[39;00m is_phone_number(\u001b[38;5;124m'\u001b[39m\u001b[38;5;124m0123456789\u001b[39m\u001b[38;5;124m'\u001b[39m) \u001b[38;5;241m==\u001b[39m \u001b[38;5;28;01mFalse\u001b[39;00m\n",
      "\u001b[0;31mAssertionError\u001b[0m: "
     ]
    }
   ],
   "source": [
    "#assert is_phone_number('0123456789') == True\n",
    "#assert is_phone_number('O123456789') == False\n",
    "#assert is_phone_number('012345678') == False\n",
    "#assert is_phone_number('01234567889') == False"
   ]
  },
  {
   "cell_type": "markdown",
   "metadata": {},
   "source": [
    "Now let's make a function that removes multiple white spaces, called *remove_whitespace(text)*. For example, the sentence `\"hello  there,  how    are you ?\"` as input would return `\"hello there, how are you ?`"
   ]
  },
  {
   "cell_type": "code",
   "execution_count": 54,
   "metadata": {},
   "outputs": [
    {
     "data": {
      "text/plain": [
       "'what is your name?'"
      ]
     },
     "execution_count": 54,
     "metadata": {},
     "output_type": "execute_result"
    }
   ],
   "source": [
    "# TODO: Implement the function remove_whitespace\n",
    "# REGEX\n",
    "def remove_whitespace(texte):\n",
    "    texte = re.sub(' +', ' ', texte).strip()\n",
    "    return texte\n",
    "\n",
    "texte = remove_whitespace(' what is your  name?')\n",
    "texte"
   ]
  },
  {
   "cell_type": "markdown",
   "metadata": {},
   "source": [
    "Now test your function with some values to check if it works well."
   ]
  },
  {
   "cell_type": "code",
   "execution_count": null,
   "metadata": {},
   "outputs": [],
   "source": [
    "assert remove_whitespace('hello how    are  you?') == \"hello how are you?\"\n",
    "assert remove_whitespace(' what is your  name?') == \"what is your name?\""
   ]
  }
 ],
 "metadata": {
  "kernelspec": {
   "display_name": "Python 3",
   "language": "python",
   "name": "python3"
  },
  "language_info": {
   "codemirror_mode": {
    "name": "ipython",
    "version": 3
   },
   "file_extension": ".py",
   "mimetype": "text/x-python",
   "name": "python",
   "nbconvert_exporter": "python",
   "pygments_lexer": "ipython3",
   "version": "3.10.12"
  },
  "toc": {
   "base_numbering": 1,
   "nav_menu": {},
   "number_sections": true,
   "sideBar": true,
   "skip_h1_title": false,
   "title_cell": "Table of Contents",
   "title_sidebar": "Contents",
   "toc_cell": false,
   "toc_position": {},
   "toc_section_display": true,
   "toc_window_display": false
  }
 },
 "nbformat": 4,
 "nbformat_minor": 2
}
