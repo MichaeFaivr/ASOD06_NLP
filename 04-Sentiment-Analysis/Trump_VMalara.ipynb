{
 "cells": [
  {
   "cell_type": "code",
   "execution_count": 2,
   "metadata": {},
   "outputs": [],
   "source": [
    "import numpy as np\n",
    "import pandas as pd\n",
    "import matplotlib.pyplot as plt\n",
    "import seaborn as sns\n",
    "import warnings\n",
    "warnings.filterwarnings('ignore')\n",
    "\n",
    "from string import punctuation \n",
    "from textblob import TextBlob\n",
    "\n",
    "from nltk import pos_tag\n",
    "from nltk.corpus import wordnet, stopwords\n",
    "stop_words = stopwords.words(\"english\")\n",
    "from nltk.tokenize import word_tokenize\n",
    "from nltk.stem import PorterStemmer, WordNetLemmatizer\n",
    "stemmer = PorterStemmer()\n",
    "lemmatizer = WordNetLemmatizer()\n",
    "\n",
    "from sklearn.linear_model import LogisticRegression"
   ]
  },
  {
   "cell_type": "code",
   "execution_count": 3,
   "metadata": {},
   "outputs": [],
   "source": [
    "def get_wordnet_pos(pt):\n",
    "    output = np.asarray(pt)\n",
    "    for i in range(len(pt)):\n",
    "        if pt[i][1].startswith('J'):\n",
    "            output[i][1] = wordnet.ADJ\n",
    "        elif pt[i][1].startswith('V'):\n",
    "            output[i][1] = wordnet.VERB\n",
    "        elif pt[i][1].startswith('R'):\n",
    "            output[i][1] = wordnet.ADV\n",
    "        else:\n",
    "            output[i][1] = wordnet.NOUN\n",
    "    return output\n",
    "\n",
    "def lem_stem(text, preprocessing='stem', join=False):\n",
    "    # Tokenize\n",
    "    tokens = word_tokenize(text)\n",
    "    # Get rid of punctuation\n",
    "    tokens = [t for t in tokens if t.isalpha()]\n",
    "    # Get rid of stopwords"
   ]
  },
  {
   "cell_type": "code",
   "execution_count": 4,
   "metadata": {},
   "outputs": [
    {
     "data": {
      "text/plain": [
       "'2.0.2'"
      ]
     },
     "execution_count": 4,
     "metadata": {},
     "output_type": "execute_result"
    }
   ],
   "source": [
    "pd.__version__"
   ]
  },
  {
   "cell_type": "code",
   "execution_count": 5,
   "metadata": {},
   "outputs": [],
   "source": [
    "#tweets = pd.read_csv('trump_tweet_2016.csv')"
   ]
  },
  {
   "cell_type": "code",
   "execution_count": 6,
   "metadata": {},
   "outputs": [],
   "source": [
    "tweets = pd.read_csv('trump_tweet_2016.csv', on_bad_lines=\"skip\", sep='|')"
   ]
  },
  {
   "cell_type": "code",
   "execution_count": 7,
   "metadata": {},
   "outputs": [
    {
     "data": {
      "text/plain": [
       "\"Happy New Year to all, including to my many enemies and those who have fought me and lost so badly they just don't know what to do. Love!\""
      ]
     },
     "execution_count": 7,
     "metadata": {},
     "output_type": "execute_result"
    }
   ],
   "source": [
    "tweets.text[2]"
   ]
  },
  {
   "cell_type": "code",
   "execution_count": 8,
   "metadata": {},
   "outputs": [
    {
     "data": {
      "text/plain": [
       "source\n",
       "Twitter for iPhone     1823\n",
       "Twitter for Android    1690\n",
       "Twitter Web Client      316\n",
       "Twitter Ads              63\n",
       "Twitter for iPad         19\n",
       "TweetDeck                 2\n",
       "Instagram                 2\n",
       "Periscope                 1\n",
       "Media Studio              1\n",
       "Mobile Web (M5)           1\n",
       "Name: count, dtype: int64"
      ]
     },
     "execution_count": 8,
     "metadata": {},
     "output_type": "execute_result"
    }
   ],
   "source": [
    "tweets['source'].value_counts()"
   ]
  },
  {
   "cell_type": "code",
   "execution_count": 9,
   "metadata": {},
   "outputs": [],
   "source": [
    "tweets.rename(columns={\"source\": \"target_name\"}, inplace=True)"
   ]
  },
  {
   "cell_type": "code",
   "execution_count": 10,
   "metadata": {},
   "outputs": [],
   "source": [
    "tweets.reset_index(inplace=True, drop=True)"
   ]
  },
  {
   "cell_type": "code",
   "execution_count": 11,
   "metadata": {},
   "outputs": [
    {
     "data": {
      "text/plain": [
       "(3918, 7)"
      ]
     },
     "execution_count": 11,
     "metadata": {},
     "output_type": "execute_result"
    }
   ],
   "source": [
    "tweets.shape"
   ]
  },
  {
   "cell_type": "code",
   "execution_count": 12,
   "metadata": {},
   "outputs": [],
   "source": [
    "tweets = tweets.drop('id_str', axis=1)"
   ]
  },
  {
   "cell_type": "code",
   "execution_count": 13,
   "metadata": {},
   "outputs": [
    {
     "name": "stdout",
     "output_type": "stream",
     "text": [
      "<class 'pandas.core.frame.DataFrame'>\n",
      "RangeIndex: 3918 entries, 0 to 3917\n",
      "Data columns (total 6 columns):\n",
      " #   Column          Non-Null Count  Dtype \n",
      "---  ------          --------------  ----- \n",
      " 0   target_name     3918 non-null   object\n",
      " 1   text            3918 non-null   object\n",
      " 2   created_at      3918 non-null   object\n",
      " 3   retweet_count   3918 non-null   int64 \n",
      " 4   favorite_count  3918 non-null   int64 \n",
      " 5   is_retweet      3918 non-null   bool  \n",
      "dtypes: bool(1), int64(2), object(3)\n",
      "memory usage: 157.0+ KB\n"
     ]
    }
   ],
   "source": [
    "tweets.info()"
   ]
  },
  {
   "cell_type": "code",
   "execution_count": 14,
   "metadata": {},
   "outputs": [
    {
     "data": {
      "text/plain": [
       "target_name       0\n",
       "text              0\n",
       "created_at        0\n",
       "retweet_count     0\n",
       "favorite_count    0\n",
       "is_retweet        0\n",
       "dtype: int64"
      ]
     },
     "execution_count": 14,
     "metadata": {},
     "output_type": "execute_result"
    }
   ],
   "source": [
    "tweets.isna().sum()"
   ]
  },
  {
   "cell_type": "code",
   "execution_count": 15,
   "metadata": {},
   "outputs": [
    {
     "data": {
      "text/plain": [
       "array(['Twitter for iPhone', 'Twitter for Android', 'Twitter Web Client',\n",
       "       'Twitter Ads', 'Periscope', 'Twitter for iPad', 'TweetDeck',\n",
       "       'Media Studio', 'Instagram', 'Mobile Web (M5)'], dtype=object)"
      ]
     },
     "execution_count": 15,
     "metadata": {},
     "output_type": "execute_result"
    }
   ],
   "source": [
    "tweets[\"target_name\"].unique()"
   ]
  },
  {
   "cell_type": "code",
   "execution_count": 16,
   "metadata": {},
   "outputs": [],
   "source": [
    "tweets = tweets[(tweets[\"target_name\"] == \"Twitter for iPhone\") | (tweets[\"target_name\"] == \"Twitter for Android\")]"
   ]
  },
  {
   "cell_type": "code",
   "execution_count": 17,
   "metadata": {},
   "outputs": [
    {
     "data": {
      "text/html": [
       "<div>\n",
       "<style scoped>\n",
       "    .dataframe tbody tr th:only-of-type {\n",
       "        vertical-align: middle;\n",
       "    }\n",
       "\n",
       "    .dataframe tbody tr th {\n",
       "        vertical-align: top;\n",
       "    }\n",
       "\n",
       "    .dataframe thead th {\n",
       "        text-align: right;\n",
       "    }\n",
       "</style>\n",
       "<table border=\"1\" class=\"dataframe\">\n",
       "  <thead>\n",
       "    <tr style=\"text-align: right;\">\n",
       "      <th></th>\n",
       "      <th>target_name</th>\n",
       "      <th>text</th>\n",
       "      <th>created_at</th>\n",
       "      <th>retweet_count</th>\n",
       "      <th>favorite_count</th>\n",
       "      <th>is_retweet</th>\n",
       "    </tr>\n",
       "  </thead>\n",
       "  <tbody>\n",
       "    <tr>\n",
       "      <th>0</th>\n",
       "      <td>Twitter for iPhone</td>\n",
       "      <td>RT @realDonaldTrump: Happy Birthday @DonaldJTr...</td>\n",
       "      <td>12-31-2016 18:59:04</td>\n",
       "      <td>9529</td>\n",
       "      <td>0</td>\n",
       "      <td>True</td>\n",
       "    </tr>\n",
       "    <tr>\n",
       "      <th>1</th>\n",
       "      <td>Twitter for iPhone</td>\n",
       "      <td>Happy Birthday @DonaldJTrumpJr!https://t.co/uR...</td>\n",
       "      <td>12-31-2016 18:58:12</td>\n",
       "      <td>9529</td>\n",
       "      <td>55601</td>\n",
       "      <td>False</td>\n",
       "    </tr>\n",
       "    <tr>\n",
       "      <th>2</th>\n",
       "      <td>Twitter for Android</td>\n",
       "      <td>Happy New Year to all, including to my many en...</td>\n",
       "      <td>12-31-2016 13:17:21</td>\n",
       "      <td>141853</td>\n",
       "      <td>350860</td>\n",
       "      <td>False</td>\n",
       "    </tr>\n",
       "    <tr>\n",
       "      <th>3</th>\n",
       "      <td>Twitter for Android</td>\n",
       "      <td>Russians are playing @CNN and @NBCNews for suc...</td>\n",
       "      <td>12-30-2016 22:18:18</td>\n",
       "      <td>23213</td>\n",
       "      <td>84254</td>\n",
       "      <td>False</td>\n",
       "    </tr>\n",
       "    <tr>\n",
       "      <th>4</th>\n",
       "      <td>Twitter for iPhone</td>\n",
       "      <td>Join @AmerIcan32, founded by Hall of Fame lege...</td>\n",
       "      <td>12-30-2016 19:46:55</td>\n",
       "      <td>7366</td>\n",
       "      <td>25336</td>\n",
       "      <td>False</td>\n",
       "    </tr>\n",
       "    <tr>\n",
       "      <th>...</th>\n",
       "      <td>...</td>\n",
       "      <td>...</td>\n",
       "      <td>...</td>\n",
       "      <td>...</td>\n",
       "      <td>...</td>\n",
       "      <td>...</td>\n",
       "    </tr>\n",
       "    <tr>\n",
       "      <th>3913</th>\n",
       "      <td>Twitter for iPhone</td>\n",
       "      <td>#HappyNewYearAmerica! https://t.co/EeQb8PDrUe</td>\n",
       "      <td>01-01-2016 05:18:23</td>\n",
       "      <td>3434</td>\n",
       "      <td>9143</td>\n",
       "      <td>False</td>\n",
       "    </tr>\n",
       "    <tr>\n",
       "      <th>3914</th>\n",
       "      <td>Twitter for iPhone</td>\n",
       "      <td>HAPPY NEW YEAR &amp;amp; THANK YOU! https://t.co/Y...</td>\n",
       "      <td>01-01-2016 03:25:27</td>\n",
       "      <td>3460</td>\n",
       "      <td>8581</td>\n",
       "      <td>False</td>\n",
       "    </tr>\n",
       "    <tr>\n",
       "      <th>3915</th>\n",
       "      <td>Twitter for Android</td>\n",
       "      <td>I will be on @FoxNews live,  with members of m...</td>\n",
       "      <td>01-01-2016 00:44:14</td>\n",
       "      <td>2108</td>\n",
       "      <td>6735</td>\n",
       "      <td>False</td>\n",
       "    </tr>\n",
       "    <tr>\n",
       "      <th>3916</th>\n",
       "      <td>Twitter for Android</td>\n",
       "      <td>I would like to wish everyone A HAPPY AND HEAL...</td>\n",
       "      <td>12-31-2015 23:21:49</td>\n",
       "      <td>6776</td>\n",
       "      <td>16495</td>\n",
       "      <td>False</td>\n",
       "    </tr>\n",
       "    <tr>\n",
       "      <th>3917</th>\n",
       "      <td>Twitter for Android</td>\n",
       "      <td>Do you believe that The State Department, on N...</td>\n",
       "      <td>12-31-2015 23:11:35</td>\n",
       "      <td>2755</td>\n",
       "      <td>6824</td>\n",
       "      <td>False</td>\n",
       "    </tr>\n",
       "  </tbody>\n",
       "</table>\n",
       "<p>3513 rows × 6 columns</p>\n",
       "</div>"
      ],
      "text/plain": [
       "              target_name                                               text  \\\n",
       "0      Twitter for iPhone  RT @realDonaldTrump: Happy Birthday @DonaldJTr...   \n",
       "1      Twitter for iPhone  Happy Birthday @DonaldJTrumpJr!https://t.co/uR...   \n",
       "2     Twitter for Android  Happy New Year to all, including to my many en...   \n",
       "3     Twitter for Android  Russians are playing @CNN and @NBCNews for suc...   \n",
       "4      Twitter for iPhone  Join @AmerIcan32, founded by Hall of Fame lege...   \n",
       "...                   ...                                                ...   \n",
       "3913   Twitter for iPhone      #HappyNewYearAmerica! https://t.co/EeQb8PDrUe   \n",
       "3914   Twitter for iPhone  HAPPY NEW YEAR &amp; THANK YOU! https://t.co/Y...   \n",
       "3915  Twitter for Android  I will be on @FoxNews live,  with members of m...   \n",
       "3916  Twitter for Android  I would like to wish everyone A HAPPY AND HEAL...   \n",
       "3917  Twitter for Android  Do you believe that The State Department, on N...   \n",
       "\n",
       "               created_at  retweet_count  favorite_count  is_retweet  \n",
       "0     12-31-2016 18:59:04           9529               0        True  \n",
       "1     12-31-2016 18:58:12           9529           55601       False  \n",
       "2     12-31-2016 13:17:21         141853          350860       False  \n",
       "3     12-30-2016 22:18:18          23213           84254       False  \n",
       "4     12-30-2016 19:46:55           7366           25336       False  \n",
       "...                   ...            ...             ...         ...  \n",
       "3913  01-01-2016 05:18:23           3434            9143       False  \n",
       "3914  01-01-2016 03:25:27           3460            8581       False  \n",
       "3915  01-01-2016 00:44:14           2108            6735       False  \n",
       "3916  12-31-2015 23:21:49           6776           16495       False  \n",
       "3917  12-31-2015 23:11:35           2755            6824       False  \n",
       "\n",
       "[3513 rows x 6 columns]"
      ]
     },
     "execution_count": 17,
     "metadata": {},
     "output_type": "execute_result"
    }
   ],
   "source": [
    "tweets"
   ]
  },
  {
   "cell_type": "code",
   "execution_count": 18,
   "metadata": {},
   "outputs": [],
   "source": [
    "tweets.reset_index(inplace=True, drop=True)"
   ]
  },
  {
   "cell_type": "code",
   "execution_count": 19,
   "metadata": {},
   "outputs": [
    {
     "data": {
      "image/png": "[encoded data removed]",
      "text/plain": [
       "<Figure size 640x480 with 1 Axes>"
      ]
     },
     "metadata": {},
     "output_type": "display_data"
    }
   ],
   "source": [
    "plt.figure()\n",
    "\n",
    "sns.countplot(tweets.target_name)\n",
    "plt.title(\"Number of tweets from iphone (e.g. from the Trump team) \\nand of tweets from android (e.g. from Trump himself)\")\n",
    "\n",
    "plt.show()"
   ]
  },
  {
   "cell_type": "code",
   "execution_count": 20,
   "metadata": {},
   "outputs": [],
   "source": [
    "tweets.is_retweet = tweets.is_retweet.astype(int)"
   ]
  },
  {
   "cell_type": "code",
   "execution_count": 21,
   "metadata": {},
   "outputs": [
    {
     "data": {
      "image/png": "[encoded data removed]",
      "text/plain": [
       "<Figure size 640x480 with 1 Axes>"
      ]
     },
     "metadata": {},
     "output_type": "display_data"
    }
   ],
   "source": [
    "plt.figure()\n",
    "\n",
    "sns.countplot(tweets.is_retweet)\n",
    "plt.title(\"Number of retweeted (1) and non-retweeted (0) tweets in the dataframe\")\n",
    "\n",
    "plt.show()"
   ]
  },
  {
   "cell_type": "code",
   "execution_count": 22,
   "metadata": {},
   "outputs": [],
   "source": [
    "tweets[\"favorite_count\"] = tweets[\"favorite_count\"].replace(0, int(tweets[\"favorite_count\"].mean()))"
   ]
  },
  {
   "cell_type": "code",
   "execution_count": 23,
   "metadata": {},
   "outputs": [
    {
     "data": {
      "image/png": "[encoded data removed]",
      "text/plain": [
       "<Figure size 1600x600 with 2 Axes>"
      ]
     },
     "metadata": {},
     "output_type": "display_data"
    }
   ],
   "source": [
    "plt.figure(figsize=(16, 6))\n",
    "\n",
    "plt.subplot(121)\n",
    "sns.boxplot(tweets.retweet_count[tweets.retweet_count < 100000])\n",
    "plt.title(\"Boxplot of the nb of retweets per tweets\")\n",
    "\n",
    "plt.subplot(122)\n",
    "sns.boxplot(tweets.favorite_count[tweets.favorite_count < 100000])\n",
    "plt.title(\"Boxplot of the nb of favorites per tweets\")\n",
    "\n",
    "plt.show()"
   ]
  },
  {
   "cell_type": "code",
   "execution_count": 24,
   "metadata": {},
   "outputs": [
    {
     "data": {
      "image/png": "[encoded data removed]",
      "text/plain": [
       "<Figure size 1600x600 with 2 Axes>"
      ]
     },
     "metadata": {},
     "output_type": "display_data"
    }
   ],
   "source": [
    "plt.figure(figsize=(16, 6))\n",
    "\n",
    "plt.subplot(121)\n",
    "sns.boxplot(data=tweets[tweets.favorite_count < 100000], \n",
    "            y='retweet_count', \n",
    "            x='target_name')\n",
    "plt.title(\"Boxplot of the nb of retweets per tweets depending on the target class\")\n",
    "\n",
    "plt.subplot(122)\n",
    "sns.boxplot(data=tweets[tweets.favorite_count < 100000], \n",
    "            y='favorite_count', \n",
    "            x='target_name')\n",
    "plt.title(\"Boxplot of the nb of favorites per tweets depending on the target class\")\n",
    "\n",
    "plt.show()"
   ]
  },
  {
   "cell_type": "code",
   "execution_count": 25,
   "metadata": {},
   "outputs": [
    {
     "data": {
      "text/html": [
       "<div>\n",
       "<style scoped>\n",
       "    .dataframe tbody tr th:only-of-type {\n",
       "        vertical-align: middle;\n",
       "    }\n",
       "\n",
       "    .dataframe tbody tr th {\n",
       "        vertical-align: top;\n",
       "    }\n",
       "\n",
       "    .dataframe thead th {\n",
       "        text-align: right;\n",
       "    }\n",
       "</style>\n",
       "<table border=\"1\" class=\"dataframe\">\n",
       "  <thead>\n",
       "    <tr style=\"text-align: right;\">\n",
       "      <th></th>\n",
       "      <th>retweet_count</th>\n",
       "      <th>favorite_count</th>\n",
       "    </tr>\n",
       "    <tr>\n",
       "      <th>target_name</th>\n",
       "      <th></th>\n",
       "      <th></th>\n",
       "    </tr>\n",
       "  </thead>\n",
       "  <tbody>\n",
       "    <tr>\n",
       "      <th>Twitter for Android</th>\n",
       "      <td>8159.472189</td>\n",
       "      <td>25712.058580</td>\n",
       "    </tr>\n",
       "    <tr>\n",
       "      <th>Twitter for iPhone</th>\n",
       "      <td>7452.662095</td>\n",
       "      <td>20012.420735</td>\n",
       "    </tr>\n",
       "  </tbody>\n",
       "</table>\n",
       "</div>"
      ],
      "text/plain": [
       "                     retweet_count  favorite_count\n",
       "target_name                                       \n",
       "Twitter for Android    8159.472189    25712.058580\n",
       "Twitter for iPhone     7452.662095    20012.420735"
      ]
     },
     "execution_count": 25,
     "metadata": {},
     "output_type": "execute_result"
    }
   ],
   "source": [
    "tweets.groupby('target_name')[[\"retweet_count\", \"favorite_count\"]].mean()"
   ]
  },
  {
   "cell_type": "code",
   "execution_count": 26,
   "metadata": {},
   "outputs": [],
   "source": [
    "tweets.created_at = pd.to_datetime(tweets.created_at)"
   ]
  },
  {
   "cell_type": "code",
   "execution_count": 27,
   "metadata": {},
   "outputs": [],
   "source": [
    "tweets.created_at = tweets.created_at.dt.tz_localize('Europe/Paris').dt.tz_convert('US/Eastern')"
   ]
  },
  {
   "cell_type": "code",
   "execution_count": 28,
   "metadata": {},
   "outputs": [
    {
     "data": {
      "text/plain": [
       "(Timestamp('2015-12-31 17:11:35-0500', tz='US/Eastern'),\n",
       " Timestamp('2016-12-31 12:59:04-0500', tz='US/Eastern'))"
      ]
     },
     "execution_count": 28,
     "metadata": {},
     "output_type": "execute_result"
    }
   ],
   "source": [
    "tweets.created_at.min(), tweets.created_at.max()"
   ]
  },
  {
   "cell_type": "code",
   "execution_count": 29,
   "metadata": {},
   "outputs": [],
   "source": [
    "# Feature engineering \n",
    "\n",
    "# Get a column \"Hour\"\n",
    "tweets[\"Hour\"] = tweets[\"created_at\"].apply(lambda x: x.hour)\n",
    "\n",
    "# Get a column \"Weekday\"\n",
    "tweets[\"weekday\"] = tweets[\"created_at\"].apply(lambda x: x.weekday())"
   ]
  },
  {
   "cell_type": "code",
   "execution_count": 30,
   "metadata": {},
   "outputs": [
    {
     "data": {
      "image/png": "[encoded data removed]",
      "text/plain": [
       "<Figure size 1600x400 with 2 Axes>"
      ]
     },
     "metadata": {},
     "output_type": "display_data"
    }
   ],
   "source": [
    "plt.figure(figsize=(16, 4))\n",
    "\n",
    "plt.subplot(121)\n",
    "sns.distplot(tweets.Hour, kde=False, bins=20)\n",
    "plt.title(\"Distribution of the nb of tweets per hour\")\n",
    "\n",
    "plt.subplot(122)\n",
    "sns.distplot(tweets.Hour[tweets.target_name == \"Twitter for iPhone\"], label=\"Trump team\", kde=False, bins=20)\n",
    "sns.distplot(tweets.Hour[tweets.target_name == \"Twitter for Android\"], label=\"Trump himself\", kde=False, bins=20)\n",
    "plt.title(\"Distribution of the nb of tweets per hour depending on the source of the tweet\")\n",
    "plt.legend()\n",
    "\n",
    "plt.show()"
   ]
  },
  {
   "cell_type": "code",
   "execution_count": 31,
   "metadata": {},
   "outputs": [
    {
     "data": {
      "image/png": "[encoded data removed]",
      "text/plain": [
       "<Figure size 1000x600 with 1 Axes>"
      ]
     },
     "metadata": {},
     "output_type": "display_data"
    }
   ],
   "source": [
    "plt.figure(figsize=(10, 6))\n",
    "sns.countplot(tweets.weekday, hue=tweets.target_name)\n",
    "plt.title(\"Number of tweets per day of the week depending on the source\")\n",
    "plt.show()"
   ]
  },
  {
   "cell_type": "code",
   "execution_count": 32,
   "metadata": {},
   "outputs": [],
   "source": [
    "tweets = pd.get_dummies(tweets, columns=['weekday'], drop_first=True)"
   ]
  },
  {
   "cell_type": "code",
   "execution_count": 33,
   "metadata": {},
   "outputs": [],
   "source": [
    "tweets['length_of_tweet'] = tweets.text.apply(lambda x : len(word_tokenize(x)))\n",
    "tweets[\"punctuation_length\"] = tweets.text.apply(lambda x : len([w for w in x if w in punctuation]))\n",
    "tweets['num_of_unique_words'] = tweets.text.apply(lambda x: len(set(word_tokenize(x))))\n",
    "tweets['number_of_characters'] = tweets.text.apply(len)"
   ]
  },
  {
   "cell_type": "code",
   "execution_count": 34,
   "metadata": {},
   "outputs": [
    {
     "data": {
      "image/png": "[encoded data removed]",
      "text/plain": [
       "<Figure size 1400x1000 with 4 Axes>"
      ]
     },
     "metadata": {},
     "output_type": "display_data"
    }
   ],
   "source": [
    "plt.figure(figsize=(14, 10))\n",
    "\n",
    "plt.subplot(221)\n",
    "sns.barplot(x=tweets.target_name, y=tweets.length_of_tweet, ci=None)\n",
    "plt.title(\"Mean length of tweet depending on the source of the tweet\")\n",
    "\n",
    "plt.subplot(222)\n",
    "sns.barplot(x=tweets.target_name, y=tweets.punctuation_length, ci=None)\n",
    "plt.title(\"Mean length of punctuation depending on the source of the tweet\")\n",
    "\n",
    "plt.subplot(223)\n",
    "sns.barplot(x=tweets.target_name, y=tweets.num_of_unique_words, ci=None)\n",
    "plt.title(\"Mean number of unique words depending on the source of the tweet\")\n",
    "\n",
    "plt.subplot(224)\n",
    "sns.barplot(x=tweets.target_name, y=tweets.number_of_characters, ci=None)\n",
    "plt.title(\"Mean number of characters depending on the source of the tweet\")\n",
    "\n",
    "plt.tight_layout()"
   ]
  },
  {
   "cell_type": "code",
   "execution_count": null,
   "metadata": {},
   "outputs": [],
   "source": []
  },
  {
   "cell_type": "code",
   "execution_count": 35,
   "metadata": {},
   "outputs": [
    {
     "data": {
      "text/html": [
       "<div>\n",
       "<style scoped>\n",
       "    .dataframe tbody tr th:only-of-type {\n",
       "        vertical-align: middle;\n",
       "    }\n",
       "\n",
       "    .dataframe tbody tr th {\n",
       "        vertical-align: top;\n",
       "    }\n",
       "\n",
       "    .dataframe thead th {\n",
       "        text-align: right;\n",
       "    }\n",
       "</style>\n",
       "<table border=\"1\" class=\"dataframe\">\n",
       "  <thead>\n",
       "    <tr style=\"text-align: right;\">\n",
       "      <th></th>\n",
       "      <th>target_name</th>\n",
       "      <th>text</th>\n",
       "      <th>created_at</th>\n",
       "      <th>retweet_count</th>\n",
       "      <th>favorite_count</th>\n",
       "      <th>is_retweet</th>\n",
       "      <th>Hour</th>\n",
       "      <th>weekday_1</th>\n",
       "      <th>weekday_2</th>\n",
       "      <th>weekday_3</th>\n",
       "      <th>weekday_4</th>\n",
       "      <th>weekday_5</th>\n",
       "      <th>weekday_6</th>\n",
       "      <th>length_of_tweet</th>\n",
       "      <th>punctuation_length</th>\n",
       "      <th>num_of_unique_words</th>\n",
       "      <th>number_of_characters</th>\n",
       "    </tr>\n",
       "  </thead>\n",
       "  <tbody>\n",
       "    <tr>\n",
       "      <th>0</th>\n",
       "      <td>Twitter for iPhone</td>\n",
       "      <td>RT @realDonaldTrump: Happy Birthday @DonaldJTr...</td>\n",
       "      <td>2016-12-31 12:59:04-05:00</td>\n",
       "      <td>9529</td>\n",
       "      <td>21906</td>\n",
       "      <td>1</td>\n",
       "      <td>12</td>\n",
       "      <td>False</td>\n",
       "      <td>False</td>\n",
       "      <td>False</td>\n",
       "      <td>False</td>\n",
       "      <td>True</td>\n",
       "      <td>False</td>\n",
       "      <td>12</td>\n",
       "      <td>9</td>\n",
       "      <td>10</td>\n",
       "      <td>75</td>\n",
       "    </tr>\n",
       "    <tr>\n",
       "      <th>1</th>\n",
       "      <td>Twitter for iPhone</td>\n",
       "      <td>Happy Birthday @DonaldJTrumpJr!https://t.co/uR...</td>\n",
       "      <td>2016-12-31 12:58:12-05:00</td>\n",
       "      <td>9529</td>\n",
       "      <td>55601</td>\n",
       "      <td>0</td>\n",
       "      <td>12</td>\n",
       "      <td>False</td>\n",
       "      <td>False</td>\n",
       "      <td>False</td>\n",
       "      <td>False</td>\n",
       "      <td>True</td>\n",
       "      <td>False</td>\n",
       "      <td>8</td>\n",
       "      <td>7</td>\n",
       "      <td>8</td>\n",
       "      <td>54</td>\n",
       "    </tr>\n",
       "    <tr>\n",
       "      <th>2</th>\n",
       "      <td>Twitter for Android</td>\n",
       "      <td>Happy New Year to all, including to my many en...</td>\n",
       "      <td>2016-12-31 07:17:21-05:00</td>\n",
       "      <td>141853</td>\n",
       "      <td>350860</td>\n",
       "      <td>0</td>\n",
       "      <td>7</td>\n",
       "      <td>False</td>\n",
       "      <td>False</td>\n",
       "      <td>False</td>\n",
       "      <td>False</td>\n",
       "      <td>True</td>\n",
       "      <td>False</td>\n",
       "      <td>32</td>\n",
       "      <td>4</td>\n",
       "      <td>28</td>\n",
       "      <td>137</td>\n",
       "    </tr>\n",
       "    <tr>\n",
       "      <th>3</th>\n",
       "      <td>Twitter for Android</td>\n",
       "      <td>Russians are playing @CNN and @NBCNews for suc...</td>\n",
       "      <td>2016-12-30 16:18:18-05:00</td>\n",
       "      <td>23213</td>\n",
       "      <td>84254</td>\n",
       "      <td>0</td>\n",
       "      <td>16</td>\n",
       "      <td>False</td>\n",
       "      <td>False</td>\n",
       "      <td>False</td>\n",
       "      <td>True</td>\n",
       "      <td>False</td>\n",
       "      <td>False</td>\n",
       "      <td>29</td>\n",
       "      <td>8</td>\n",
       "      <td>26</td>\n",
       "      <td>121</td>\n",
       "    </tr>\n",
       "    <tr>\n",
       "      <th>4</th>\n",
       "      <td>Twitter for iPhone</td>\n",
       "      <td>Join @AmerIcan32, founded by Hall of Fame lege...</td>\n",
       "      <td>2016-12-30 13:46:55-05:00</td>\n",
       "      <td>7366</td>\n",
       "      <td>25336</td>\n",
       "      <td>0</td>\n",
       "      <td>13</td>\n",
       "      <td>False</td>\n",
       "      <td>False</td>\n",
       "      <td>False</td>\n",
       "      <td>True</td>\n",
       "      <td>False</td>\n",
       "      <td>False</td>\n",
       "      <td>21</td>\n",
       "      <td>13</td>\n",
       "      <td>19</td>\n",
       "      <td>121</td>\n",
       "    </tr>\n",
       "    <tr>\n",
       "      <th>...</th>\n",
       "      <td>...</td>\n",
       "      <td>...</td>\n",
       "      <td>...</td>\n",
       "      <td>...</td>\n",
       "      <td>...</td>\n",
       "      <td>...</td>\n",
       "      <td>...</td>\n",
       "      <td>...</td>\n",
       "      <td>...</td>\n",
       "      <td>...</td>\n",
       "      <td>...</td>\n",
       "      <td>...</td>\n",
       "      <td>...</td>\n",
       "      <td>...</td>\n",
       "      <td>...</td>\n",
       "      <td>...</td>\n",
       "      <td>...</td>\n",
       "    </tr>\n",
       "    <tr>\n",
       "      <th>3508</th>\n",
       "      <td>Twitter for iPhone</td>\n",
       "      <td>#HappyNewYearAmerica! https://t.co/EeQb8PDrUe</td>\n",
       "      <td>2015-12-31 23:18:23-05:00</td>\n",
       "      <td>3434</td>\n",
       "      <td>9143</td>\n",
       "      <td>0</td>\n",
       "      <td>23</td>\n",
       "      <td>False</td>\n",
       "      <td>False</td>\n",
       "      <td>True</td>\n",
       "      <td>False</td>\n",
       "      <td>False</td>\n",
       "      <td>False</td>\n",
       "      <td>6</td>\n",
       "      <td>7</td>\n",
       "      <td>6</td>\n",
       "      <td>45</td>\n",
       "    </tr>\n",
       "    <tr>\n",
       "      <th>3509</th>\n",
       "      <td>Twitter for iPhone</td>\n",
       "      <td>HAPPY NEW YEAR &amp;amp; THANK YOU! https://t.co/Y...</td>\n",
       "      <td>2015-12-31 21:25:27-05:00</td>\n",
       "      <td>3460</td>\n",
       "      <td>8581</td>\n",
       "      <td>0</td>\n",
       "      <td>21</td>\n",
       "      <td>False</td>\n",
       "      <td>False</td>\n",
       "      <td>True</td>\n",
       "      <td>False</td>\n",
       "      <td>False</td>\n",
       "      <td>False</td>\n",
       "      <td>15</td>\n",
       "      <td>13</td>\n",
       "      <td>13</td>\n",
       "      <td>79</td>\n",
       "    </tr>\n",
       "    <tr>\n",
       "      <th>3510</th>\n",
       "      <td>Twitter for Android</td>\n",
       "      <td>I will be on @FoxNews live,  with members of m...</td>\n",
       "      <td>2015-12-31 18:44:14-05:00</td>\n",
       "      <td>2108</td>\n",
       "      <td>6735</td>\n",
       "      <td>0</td>\n",
       "      <td>18</td>\n",
       "      <td>False</td>\n",
       "      <td>False</td>\n",
       "      <td>True</td>\n",
       "      <td>False</td>\n",
       "      <td>False</td>\n",
       "      <td>False</td>\n",
       "      <td>31</td>\n",
       "      <td>8</td>\n",
       "      <td>28</td>\n",
       "      <td>134</td>\n",
       "    </tr>\n",
       "    <tr>\n",
       "      <th>3511</th>\n",
       "      <td>Twitter for Android</td>\n",
       "      <td>I would like to wish everyone A HAPPY AND HEAL...</td>\n",
       "      <td>2015-12-31 17:21:49-05:00</td>\n",
       "      <td>6776</td>\n",
       "      <td>16495</td>\n",
       "      <td>0</td>\n",
       "      <td>17</td>\n",
       "      <td>False</td>\n",
       "      <td>False</td>\n",
       "      <td>True</td>\n",
       "      <td>False</td>\n",
       "      <td>False</td>\n",
       "      <td>False</td>\n",
       "      <td>30</td>\n",
       "      <td>4</td>\n",
       "      <td>27</td>\n",
       "      <td>139</td>\n",
       "    </tr>\n",
       "    <tr>\n",
       "      <th>3512</th>\n",
       "      <td>Twitter for Android</td>\n",
       "      <td>Do you believe that The State Department, on N...</td>\n",
       "      <td>2015-12-31 17:11:35-05:00</td>\n",
       "      <td>2755</td>\n",
       "      <td>6824</td>\n",
       "      <td>0</td>\n",
       "      <td>17</td>\n",
       "      <td>False</td>\n",
       "      <td>False</td>\n",
       "      <td>True</td>\n",
       "      <td>False</td>\n",
       "      <td>False</td>\n",
       "      <td>False</td>\n",
       "      <td>32</td>\n",
       "      <td>8</td>\n",
       "      <td>29</td>\n",
       "      <td>136</td>\n",
       "    </tr>\n",
       "  </tbody>\n",
       "</table>\n",
       "<p>3513 rows × 17 columns</p>\n",
       "</div>"
      ],
      "text/plain": [
       "              target_name                                               text  \\\n",
       "0      Twitter for iPhone  RT @realDonaldTrump: Happy Birthday @DonaldJTr...   \n",
       "1      Twitter for iPhone  Happy Birthday @DonaldJTrumpJr!https://t.co/uR...   \n",
       "2     Twitter for Android  Happy New Year to all, including to my many en...   \n",
       "3     Twitter for Android  Russians are playing @CNN and @NBCNews for suc...   \n",
       "4      Twitter for iPhone  Join @AmerIcan32, founded by Hall of Fame lege...   \n",
       "...                   ...                                                ...   \n",
       "3508   Twitter for iPhone      #HappyNewYearAmerica! https://t.co/EeQb8PDrUe   \n",
       "3509   Twitter for iPhone  HAPPY NEW YEAR &amp; THANK YOU! https://t.co/Y...   \n",
       "3510  Twitter for Android  I will be on @FoxNews live,  with members of m...   \n",
       "3511  Twitter for Android  I would like to wish everyone A HAPPY AND HEAL...   \n",
       "3512  Twitter for Android  Do you believe that The State Department, on N...   \n",
       "\n",
       "                    created_at  retweet_count  favorite_count  is_retweet  \\\n",
       "0    2016-12-31 12:59:04-05:00           9529           21906           1   \n",
       "1    2016-12-31 12:58:12-05:00           9529           55601           0   \n",
       "2    2016-12-31 07:17:21-05:00         141853          350860           0   \n",
       "3    2016-12-30 16:18:18-05:00          23213           84254           0   \n",
       "4    2016-12-30 13:46:55-05:00           7366           25336           0   \n",
       "...                        ...            ...             ...         ...   \n",
       "3508 2015-12-31 23:18:23-05:00           3434            9143           0   \n",
       "3509 2015-12-31 21:25:27-05:00           3460            8581           0   \n",
       "3510 2015-12-31 18:44:14-05:00           2108            6735           0   \n",
       "3511 2015-12-31 17:21:49-05:00           6776           16495           0   \n",
       "3512 2015-12-31 17:11:35-05:00           2755            6824           0   \n",
       "\n",
       "      Hour  weekday_1  weekday_2  weekday_3  weekday_4  weekday_5  weekday_6  \\\n",
       "0       12      False      False      False      False       True      False   \n",
       "1       12      False      False      False      False       True      False   \n",
       "2        7      False      False      False      False       True      False   \n",
       "3       16      False      False      False       True      False      False   \n",
       "4       13      False      False      False       True      False      False   \n",
       "...    ...        ...        ...        ...        ...        ...        ...   \n",
       "3508    23      False      False       True      False      False      False   \n",
       "3509    21      False      False       True      False      False      False   \n",
       "3510    18      False      False       True      False      False      False   \n",
       "3511    17      False      False       True      False      False      False   \n",
       "3512    17      False      False       True      False      False      False   \n",
       "\n",
       "      length_of_tweet  punctuation_length  num_of_unique_words  \\\n",
       "0                  12                   9                   10   \n",
       "1                   8                   7                    8   \n",
       "2                  32                   4                   28   \n",
       "3                  29                   8                   26   \n",
       "4                  21                  13                   19   \n",
       "...               ...                 ...                  ...   \n",
       "3508                6                   7                    6   \n",
       "3509               15                  13                   13   \n",
       "3510               31                   8                   28   \n",
       "3511               30                   4                   27   \n",
       "3512               32                   8                   29   \n",
       "\n",
       "      number_of_characters  \n",
       "0                       75  \n",
       "1                       54  \n",
       "2                      137  \n",
       "3                      121  \n",
       "4                      121  \n",
       "...                    ...  \n",
       "3508                    45  \n",
       "3509                    79  \n",
       "3510                   134  \n",
       "3511                   139  \n",
       "3512                   136  \n",
       "\n",
       "[3513 rows x 17 columns]"
      ]
     },
     "execution_count": 35,
     "metadata": {},
     "output_type": "execute_result"
    }
   ],
   "source": [
    "tweets"
   ]
  },
  {
   "cell_type": "code",
   "execution_count": null,
   "metadata": {},
   "outputs": [],
   "source": []
  },
  {
   "cell_type": "code",
   "execution_count": 36,
   "metadata": {},
   "outputs": [],
   "source": [
    "import re"
   ]
  },
  {
   "cell_type": "code",
   "execution_count": 37,
   "metadata": {},
   "outputs": [],
   "source": [
    "cleaners = ['rt', 'realdonaldtrump', 'amp', 'http', 'donaldjtrumpjr']"
   ]
  },
  {
   "cell_type": "code",
   "execution_count": 38,
   "metadata": {},
   "outputs": [],
   "source": [
    "def process(document):\n",
    "    document = cleanre(document)\n",
    "    tokens = word_tokenize(document)\n",
    "    tokens = [t.lower() for t in tokens if t.isalpha()]\n",
    "    tokens = [t for t in tokens if t not in stop_words]\n",
    "    tokens = [stemmer.stem(t) for t in tokens]\n",
    "    tokens = [t for t in tokens if t not in cleaners]\n",
    "    return tokens"
   ]
  },
  {
   "cell_type": "code",
   "execution_count": 39,
   "metadata": {},
   "outputs": [
    {
     "data": {
      "text/plain": [
       "'RT @realDonaldTrump: Happy Birthday @DonaldJTrumpJr!https://t.co/uRxyCD3hBz'"
      ]
     },
     "execution_count": 39,
     "metadata": {},
     "output_type": "execute_result"
    }
   ],
   "source": [
    "tweets['text'][0]"
   ]
  },
  {
   "cell_type": "code",
   "execution_count": 40,
   "metadata": {},
   "outputs": [],
   "source": [
    "def cleanre(x):\n",
    "    y=x\n",
    "    y=re.sub(r'@\\w+', '', y)\n",
    "    y=re.sub(r'https(.*)', '', y)\n",
    "    y=re.sub(r'#(.*)', '', y)\n",
    "    return y"
   ]
  },
  {
   "cell_type": "code",
   "execution_count": 41,
   "metadata": {},
   "outputs": [
    {
     "data": {
      "text/plain": [
       "\"Happy New Year to all, including to my many enemies and those who have fought me and lost so badly they just don't know what to do. Love!\""
      ]
     },
     "execution_count": 41,
     "metadata": {},
     "output_type": "execute_result"
    }
   ],
   "source": [
    "cleanre(tweets['text'][2])"
   ]
  },
  {
   "cell_type": "code",
   "execution_count": 42,
   "metadata": {},
   "outputs": [],
   "source": [
    "tweets['processed'] = tweets['text'].apply(process)"
   ]
  },
  {
   "cell_type": "code",
   "execution_count": 43,
   "metadata": {},
   "outputs": [],
   "source": [
    "from sklearn.feature_extraction.text import CountVectorizer"
   ]
  },
  {
   "cell_type": "code",
   "execution_count": 44,
   "metadata": {},
   "outputs": [
    {
     "data": {
      "text/plain": [
       "0                                       [happi, birthday]\n",
       "1                                       [happi, birthday]\n",
       "2       [happi, new, year, includ, mani, enemi, fought...\n",
       "3       [russian, play, fool, funni, watch, clue, tota...\n",
       "4           [join, found, hall, fame, legend, washington]\n",
       "                              ...                        \n",
       "3508                                                   []\n",
       "3509                            [happi, new, year, thank]\n",
       "3510    [live, member, famili, ring, new, year, togeth...\n",
       "3511    [would, like, wish, everyon, happi, healthi, n...\n",
       "3512    [believ, state, depart, new, year, eve, releas...\n",
       "Name: processed, Length: 3513, dtype: object"
      ]
     },
     "execution_count": 44,
     "metadata": {},
     "output_type": "execute_result"
    }
   ],
   "source": [
    "tweets['processed']"
   ]
  },
  {
   "cell_type": "code",
   "execution_count": 45,
   "metadata": {},
   "outputs": [
    {
     "data": {
      "text/plain": [
       "(3513, 3687)"
      ]
     },
     "execution_count": 45,
     "metadata": {},
     "output_type": "execute_result"
    }
   ],
   "source": [
    "vectorizer = CountVectorizer(stop_words='english', analyzer=lambda x: x)\n",
    "BOW = vectorizer.fit_transform(tweets['processed']).toarray()\n",
    "BOW.shape"
   ]
  },
  {
   "cell_type": "code",
   "execution_count": 46,
   "metadata": {},
   "outputs": [],
   "source": [
    "bow_df = pd.DataFrame(BOW, columns=vectorizer.get_feature_names_out())"
   ]
  },
  {
   "cell_type": "code",
   "execution_count": 47,
   "metadata": {},
   "outputs": [
    {
     "data": {
      "text/html": [
       "<div>\n",
       "<style scoped>\n",
       "    .dataframe tbody tr th:only-of-type {\n",
       "        vertical-align: middle;\n",
       "    }\n",
       "\n",
       "    .dataframe tbody tr th {\n",
       "        vertical-align: top;\n",
       "    }\n",
       "\n",
       "    .dataframe thead th {\n",
       "        text-align: right;\n",
       "    }\n",
       "</style>\n",
       "<table border=\"1\" class=\"dataframe\">\n",
       "  <thead>\n",
       "    <tr style=\"text-align: right;\">\n",
       "      <th></th>\n",
       "      <th>abandon</th>\n",
       "      <th>abc</th>\n",
       "      <th>abdeslam</th>\n",
       "      <th>abedin</th>\n",
       "      <th>aberdeen</th>\n",
       "      <th>abil</th>\n",
       "      <th>abingdon</th>\n",
       "      <th>abl</th>\n",
       "      <th>aboard</th>\n",
       "      <th>abolish</th>\n",
       "      <th>...</th>\n",
       "      <th>youth</th>\n",
       "      <th>youtub</th>\n",
       "      <th>yr</th>\n",
       "      <th>yup</th>\n",
       "      <th>zealand</th>\n",
       "      <th>zero</th>\n",
       "      <th>zilch</th>\n",
       "      <th>zogbi</th>\n",
       "      <th>zuckerman</th>\n",
       "      <th>ĺ</th>\n",
       "    </tr>\n",
       "  </thead>\n",
       "  <tbody>\n",
       "    <tr>\n",
       "      <th>0</th>\n",
       "      <td>0</td>\n",
       "      <td>0</td>\n",
       "      <td>0</td>\n",
       "      <td>0</td>\n",
       "      <td>0</td>\n",
       "      <td>0</td>\n",
       "      <td>0</td>\n",
       "      <td>0</td>\n",
       "      <td>0</td>\n",
       "      <td>0</td>\n",
       "      <td>...</td>\n",
       "      <td>0</td>\n",
       "      <td>0</td>\n",
       "      <td>0</td>\n",
       "      <td>0</td>\n",
       "      <td>0</td>\n",
       "      <td>0</td>\n",
       "      <td>0</td>\n",
       "      <td>0</td>\n",
       "      <td>0</td>\n",
       "      <td>0</td>\n",
       "    </tr>\n",
       "    <tr>\n",
       "      <th>1</th>\n",
       "      <td>0</td>\n",
       "      <td>0</td>\n",
       "      <td>0</td>\n",
       "      <td>0</td>\n",
       "      <td>0</td>\n",
       "      <td>0</td>\n",
       "      <td>0</td>\n",
       "      <td>0</td>\n",
       "      <td>0</td>\n",
       "      <td>0</td>\n",
       "      <td>...</td>\n",
       "      <td>0</td>\n",
       "      <td>0</td>\n",
       "      <td>0</td>\n",
       "      <td>0</td>\n",
       "      <td>0</td>\n",
       "      <td>0</td>\n",
       "      <td>0</td>\n",
       "      <td>0</td>\n",
       "      <td>0</td>\n",
       "      <td>0</td>\n",
       "    </tr>\n",
       "    <tr>\n",
       "      <th>2</th>\n",
       "      <td>0</td>\n",
       "      <td>0</td>\n",
       "      <td>0</td>\n",
       "      <td>0</td>\n",
       "      <td>0</td>\n",
       "      <td>0</td>\n",
       "      <td>0</td>\n",
       "      <td>0</td>\n",
       "      <td>0</td>\n",
       "      <td>0</td>\n",
       "      <td>...</td>\n",
       "      <td>0</td>\n",
       "      <td>0</td>\n",
       "      <td>0</td>\n",
       "      <td>0</td>\n",
       "      <td>0</td>\n",
       "      <td>0</td>\n",
       "      <td>0</td>\n",
       "      <td>0</td>\n",
       "      <td>0</td>\n",
       "      <td>0</td>\n",
       "    </tr>\n",
       "    <tr>\n",
       "      <th>3</th>\n",
       "      <td>0</td>\n",
       "      <td>0</td>\n",
       "      <td>0</td>\n",
       "      <td>0</td>\n",
       "      <td>0</td>\n",
       "      <td>0</td>\n",
       "      <td>0</td>\n",
       "      <td>0</td>\n",
       "      <td>0</td>\n",
       "      <td>0</td>\n",
       "      <td>...</td>\n",
       "      <td>0</td>\n",
       "      <td>0</td>\n",
       "      <td>0</td>\n",
       "      <td>0</td>\n",
       "      <td>0</td>\n",
       "      <td>0</td>\n",
       "      <td>0</td>\n",
       "      <td>0</td>\n",
       "      <td>0</td>\n",
       "      <td>0</td>\n",
       "    </tr>\n",
       "    <tr>\n",
       "      <th>4</th>\n",
       "      <td>0</td>\n",
       "      <td>0</td>\n",
       "      <td>0</td>\n",
       "      <td>0</td>\n",
       "      <td>0</td>\n",
       "      <td>0</td>\n",
       "      <td>0</td>\n",
       "      <td>0</td>\n",
       "      <td>0</td>\n",
       "      <td>0</td>\n",
       "      <td>...</td>\n",
       "      <td>0</td>\n",
       "      <td>0</td>\n",
       "      <td>0</td>\n",
       "      <td>0</td>\n",
       "      <td>0</td>\n",
       "      <td>0</td>\n",
       "      <td>0</td>\n",
       "      <td>0</td>\n",
       "      <td>0</td>\n",
       "      <td>0</td>\n",
       "    </tr>\n",
       "    <tr>\n",
       "      <th>...</th>\n",
       "      <td>...</td>\n",
       "      <td>...</td>\n",
       "      <td>...</td>\n",
       "      <td>...</td>\n",
       "      <td>...</td>\n",
       "      <td>...</td>\n",
       "      <td>...</td>\n",
       "      <td>...</td>\n",
       "      <td>...</td>\n",
       "      <td>...</td>\n",
       "      <td>...</td>\n",
       "      <td>...</td>\n",
       "      <td>...</td>\n",
       "      <td>...</td>\n",
       "      <td>...</td>\n",
       "      <td>...</td>\n",
       "      <td>...</td>\n",
       "      <td>...</td>\n",
       "      <td>...</td>\n",
       "      <td>...</td>\n",
       "      <td>...</td>\n",
       "    </tr>\n",
       "    <tr>\n",
       "      <th>3508</th>\n",
       "      <td>0</td>\n",
       "      <td>0</td>\n",
       "      <td>0</td>\n",
       "      <td>0</td>\n",
       "      <td>0</td>\n",
       "      <td>0</td>\n",
       "      <td>0</td>\n",
       "      <td>0</td>\n",
       "      <td>0</td>\n",
       "      <td>0</td>\n",
       "      <td>...</td>\n",
       "      <td>0</td>\n",
       "      <td>0</td>\n",
       "      <td>0</td>\n",
       "      <td>0</td>\n",
       "      <td>0</td>\n",
       "      <td>0</td>\n",
       "      <td>0</td>\n",
       "      <td>0</td>\n",
       "      <td>0</td>\n",
       "      <td>0</td>\n",
       "    </tr>\n",
       "    <tr>\n",
       "      <th>3509</th>\n",
       "      <td>0</td>\n",
       "      <td>0</td>\n",
       "      <td>0</td>\n",
       "      <td>0</td>\n",
       "      <td>0</td>\n",
       "      <td>0</td>\n",
       "      <td>0</td>\n",
       "      <td>0</td>\n",
       "      <td>0</td>\n",
       "      <td>0</td>\n",
       "      <td>...</td>\n",
       "      <td>0</td>\n",
       "      <td>0</td>\n",
       "      <td>0</td>\n",
       "      <td>0</td>\n",
       "      <td>0</td>\n",
       "      <td>0</td>\n",
       "      <td>0</td>\n",
       "      <td>0</td>\n",
       "      <td>0</td>\n",
       "      <td>0</td>\n",
       "    </tr>\n",
       "    <tr>\n",
       "      <th>3510</th>\n",
       "      <td>0</td>\n",
       "      <td>0</td>\n",
       "      <td>0</td>\n",
       "      <td>0</td>\n",
       "      <td>0</td>\n",
       "      <td>0</td>\n",
       "      <td>0</td>\n",
       "      <td>0</td>\n",
       "      <td>0</td>\n",
       "      <td>0</td>\n",
       "      <td>...</td>\n",
       "      <td>0</td>\n",
       "      <td>0</td>\n",
       "      <td>0</td>\n",
       "      <td>0</td>\n",
       "      <td>0</td>\n",
       "      <td>0</td>\n",
       "      <td>0</td>\n",
       "      <td>0</td>\n",
       "      <td>0</td>\n",
       "      <td>0</td>\n",
       "    </tr>\n",
       "    <tr>\n",
       "      <th>3511</th>\n",
       "      <td>0</td>\n",
       "      <td>0</td>\n",
       "      <td>0</td>\n",
       "      <td>0</td>\n",
       "      <td>0</td>\n",
       "      <td>0</td>\n",
       "      <td>0</td>\n",
       "      <td>0</td>\n",
       "      <td>0</td>\n",
       "      <td>0</td>\n",
       "      <td>...</td>\n",
       "      <td>0</td>\n",
       "      <td>0</td>\n",
       "      <td>0</td>\n",
       "      <td>0</td>\n",
       "      <td>0</td>\n",
       "      <td>0</td>\n",
       "      <td>0</td>\n",
       "      <td>0</td>\n",
       "      <td>0</td>\n",
       "      <td>0</td>\n",
       "    </tr>\n",
       "    <tr>\n",
       "      <th>3512</th>\n",
       "      <td>0</td>\n",
       "      <td>0</td>\n",
       "      <td>0</td>\n",
       "      <td>0</td>\n",
       "      <td>0</td>\n",
       "      <td>0</td>\n",
       "      <td>0</td>\n",
       "      <td>0</td>\n",
       "      <td>0</td>\n",
       "      <td>0</td>\n",
       "      <td>...</td>\n",
       "      <td>0</td>\n",
       "      <td>0</td>\n",
       "      <td>0</td>\n",
       "      <td>0</td>\n",
       "      <td>0</td>\n",
       "      <td>0</td>\n",
       "      <td>0</td>\n",
       "      <td>0</td>\n",
       "      <td>0</td>\n",
       "      <td>0</td>\n",
       "    </tr>\n",
       "  </tbody>\n",
       "</table>\n",
       "<p>3513 rows × 3687 columns</p>\n",
       "</div>"
      ],
      "text/plain": [
       "      abandon  abc  abdeslam  abedin  aberdeen  abil  abingdon  abl  aboard  \\\n",
       "0           0    0         0       0         0     0         0    0       0   \n",
       "1           0    0         0       0         0     0         0    0       0   \n",
       "2           0    0         0       0         0     0         0    0       0   \n",
       "3           0    0         0       0         0     0         0    0       0   \n",
       "4           0    0         0       0         0     0         0    0       0   \n",
       "...       ...  ...       ...     ...       ...   ...       ...  ...     ...   \n",
       "3508        0    0         0       0         0     0         0    0       0   \n",
       "3509        0    0         0       0         0     0         0    0       0   \n",
       "3510        0    0         0       0         0     0         0    0       0   \n",
       "3511        0    0         0       0         0     0         0    0       0   \n",
       "3512        0    0         0       0         0     0         0    0       0   \n",
       "\n",
       "      abolish  ...  youth  youtub  yr  yup  zealand  zero  zilch  zogbi  \\\n",
       "0           0  ...      0       0   0    0        0     0      0      0   \n",
       "1           0  ...      0       0   0    0        0     0      0      0   \n",
       "2           0  ...      0       0   0    0        0     0      0      0   \n",
       "3           0  ...      0       0   0    0        0     0      0      0   \n",
       "4           0  ...      0       0   0    0        0     0      0      0   \n",
       "...       ...  ...    ...     ...  ..  ...      ...   ...    ...    ...   \n",
       "3508        0  ...      0       0   0    0        0     0      0      0   \n",
       "3509        0  ...      0       0   0    0        0     0      0      0   \n",
       "3510        0  ...      0       0   0    0        0     0      0      0   \n",
       "3511        0  ...      0       0   0    0        0     0      0      0   \n",
       "3512        0  ...      0       0   0    0        0     0      0      0   \n",
       "\n",
       "      zuckerman  ĺ  \n",
       "0             0  0  \n",
       "1             0  0  \n",
       "2             0  0  \n",
       "3             0  0  \n",
       "4             0  0  \n",
       "...         ... ..  \n",
       "3508          0  0  \n",
       "3509          0  0  \n",
       "3510          0  0  \n",
       "3511          0  0  \n",
       "3512          0  0  \n",
       "\n",
       "[3513 rows x 3687 columns]"
      ]
     },
     "execution_count": 47,
     "metadata": {},
     "output_type": "execute_result"
    }
   ],
   "source": [
    "bow_df"
   ]
  },
  {
   "cell_type": "code",
   "execution_count": 48,
   "metadata": {},
   "outputs": [
    {
     "data": {
      "text/plain": [
       "Index(['target_name', 'text', 'created_at', 'retweet_count', 'favorite_count',\n",
       "       'is_retweet', 'Hour', 'weekday_1', 'weekday_2', 'weekday_3',\n",
       "       'weekday_4', 'weekday_5', 'weekday_6', 'length_of_tweet',\n",
       "       'punctuation_length', 'num_of_unique_words', 'number_of_characters',\n",
       "       'processed'],\n",
       "      dtype='object')"
      ]
     },
     "execution_count": 48,
     "metadata": {},
     "output_type": "execute_result"
    }
   ],
   "source": [
    "tweets.columns"
   ]
  },
  {
   "cell_type": "code",
   "execution_count": 49,
   "metadata": {},
   "outputs": [
    {
     "data": {
      "text/plain": [
       "Index(['abandon', 'abc', 'abdeslam', 'abedin', 'aberdeen', 'abil', 'abingdon',\n",
       "       'abl', 'aboard', 'abolish',\n",
       "       ...\n",
       "       'youth', 'youtub', 'yr', 'yup', 'zealand', 'zero', 'zilch', 'zogbi',\n",
       "       'zuckerman', 'ĺ'],\n",
       "      dtype='object', length=3687)"
      ]
     },
     "execution_count": 49,
     "metadata": {},
     "output_type": "execute_result"
    }
   ],
   "source": [
    "bow_df.columns"
   ]
  },
  {
   "cell_type": "code",
   "execution_count": 50,
   "metadata": {},
   "outputs": [],
   "source": [
    "DF1 = tweets[[ 'retweet_count', 'favorite_count',\n",
    "       'is_retweet', 'Hour', 'weekday_1', 'weekday_2', 'weekday_3',\n",
    "       'weekday_4', 'weekday_5', 'weekday_6', 'length_of_tweet',\n",
    "       'punctuation_length', 'num_of_unique_words', 'number_of_characters']]"
   ]
  },
  {
   "cell_type": "code",
   "execution_count": 51,
   "metadata": {},
   "outputs": [
    {
     "data": {
      "text/html": [
       "<div>\n",
       "<style scoped>\n",
       "    .dataframe tbody tr th:only-of-type {\n",
       "        vertical-align: middle;\n",
       "    }\n",
       "\n",
       "    .dataframe tbody tr th {\n",
       "        vertical-align: top;\n",
       "    }\n",
       "\n",
       "    .dataframe thead th {\n",
       "        text-align: right;\n",
       "    }\n",
       "</style>\n",
       "<table border=\"1\" class=\"dataframe\">\n",
       "  <thead>\n",
       "    <tr style=\"text-align: right;\">\n",
       "      <th></th>\n",
       "      <th>retweet_count</th>\n",
       "      <th>favorite_count</th>\n",
       "      <th>is_retweet</th>\n",
       "      <th>Hour</th>\n",
       "      <th>weekday_1</th>\n",
       "      <th>weekday_2</th>\n",
       "      <th>weekday_3</th>\n",
       "      <th>weekday_4</th>\n",
       "      <th>weekday_5</th>\n",
       "      <th>weekday_6</th>\n",
       "      <th>length_of_tweet</th>\n",
       "      <th>punctuation_length</th>\n",
       "      <th>num_of_unique_words</th>\n",
       "      <th>number_of_characters</th>\n",
       "    </tr>\n",
       "  </thead>\n",
       "  <tbody>\n",
       "    <tr>\n",
       "      <th>0</th>\n",
       "      <td>9529</td>\n",
       "      <td>21906</td>\n",
       "      <td>1</td>\n",
       "      <td>12</td>\n",
       "      <td>False</td>\n",
       "      <td>False</td>\n",
       "      <td>False</td>\n",
       "      <td>False</td>\n",
       "      <td>True</td>\n",
       "      <td>False</td>\n",
       "      <td>12</td>\n",
       "      <td>9</td>\n",
       "      <td>10</td>\n",
       "      <td>75</td>\n",
       "    </tr>\n",
       "    <tr>\n",
       "      <th>1</th>\n",
       "      <td>9529</td>\n",
       "      <td>55601</td>\n",
       "      <td>0</td>\n",
       "      <td>12</td>\n",
       "      <td>False</td>\n",
       "      <td>False</td>\n",
       "      <td>False</td>\n",
       "      <td>False</td>\n",
       "      <td>True</td>\n",
       "      <td>False</td>\n",
       "      <td>8</td>\n",
       "      <td>7</td>\n",
       "      <td>8</td>\n",
       "      <td>54</td>\n",
       "    </tr>\n",
       "    <tr>\n",
       "      <th>2</th>\n",
       "      <td>141853</td>\n",
       "      <td>350860</td>\n",
       "      <td>0</td>\n",
       "      <td>7</td>\n",
       "      <td>False</td>\n",
       "      <td>False</td>\n",
       "      <td>False</td>\n",
       "      <td>False</td>\n",
       "      <td>True</td>\n",
       "      <td>False</td>\n",
       "      <td>32</td>\n",
       "      <td>4</td>\n",
       "      <td>28</td>\n",
       "      <td>137</td>\n",
       "    </tr>\n",
       "    <tr>\n",
       "      <th>3</th>\n",
       "      <td>23213</td>\n",
       "      <td>84254</td>\n",
       "      <td>0</td>\n",
       "      <td>16</td>\n",
       "      <td>False</td>\n",
       "      <td>False</td>\n",
       "      <td>False</td>\n",
       "      <td>True</td>\n",
       "      <td>False</td>\n",
       "      <td>False</td>\n",
       "      <td>29</td>\n",
       "      <td>8</td>\n",
       "      <td>26</td>\n",
       "      <td>121</td>\n",
       "    </tr>\n",
       "    <tr>\n",
       "      <th>4</th>\n",
       "      <td>7366</td>\n",
       "      <td>25336</td>\n",
       "      <td>0</td>\n",
       "      <td>13</td>\n",
       "      <td>False</td>\n",
       "      <td>False</td>\n",
       "      <td>False</td>\n",
       "      <td>True</td>\n",
       "      <td>False</td>\n",
       "      <td>False</td>\n",
       "      <td>21</td>\n",
       "      <td>13</td>\n",
       "      <td>19</td>\n",
       "      <td>121</td>\n",
       "    </tr>\n",
       "    <tr>\n",
       "      <th>...</th>\n",
       "      <td>...</td>\n",
       "      <td>...</td>\n",
       "      <td>...</td>\n",
       "      <td>...</td>\n",
       "      <td>...</td>\n",
       "      <td>...</td>\n",
       "      <td>...</td>\n",
       "      <td>...</td>\n",
       "      <td>...</td>\n",
       "      <td>...</td>\n",
       "      <td>...</td>\n",
       "      <td>...</td>\n",
       "      <td>...</td>\n",
       "      <td>...</td>\n",
       "    </tr>\n",
       "    <tr>\n",
       "      <th>3508</th>\n",
       "      <td>3434</td>\n",
       "      <td>9143</td>\n",
       "      <td>0</td>\n",
       "      <td>23</td>\n",
       "      <td>False</td>\n",
       "      <td>False</td>\n",
       "      <td>True</td>\n",
       "      <td>False</td>\n",
       "      <td>False</td>\n",
       "      <td>False</td>\n",
       "      <td>6</td>\n",
       "      <td>7</td>\n",
       "      <td>6</td>\n",
       "      <td>45</td>\n",
       "    </tr>\n",
       "    <tr>\n",
       "      <th>3509</th>\n",
       "      <td>3460</td>\n",
       "      <td>8581</td>\n",
       "      <td>0</td>\n",
       "      <td>21</td>\n",
       "      <td>False</td>\n",
       "      <td>False</td>\n",
       "      <td>True</td>\n",
       "      <td>False</td>\n",
       "      <td>False</td>\n",
       "      <td>False</td>\n",
       "      <td>15</td>\n",
       "      <td>13</td>\n",
       "      <td>13</td>\n",
       "      <td>79</td>\n",
       "    </tr>\n",
       "    <tr>\n",
       "      <th>3510</th>\n",
       "      <td>2108</td>\n",
       "      <td>6735</td>\n",
       "      <td>0</td>\n",
       "      <td>18</td>\n",
       "      <td>False</td>\n",
       "      <td>False</td>\n",
       "      <td>True</td>\n",
       "      <td>False</td>\n",
       "      <td>False</td>\n",
       "      <td>False</td>\n",
       "      <td>31</td>\n",
       "      <td>8</td>\n",
       "      <td>28</td>\n",
       "      <td>134</td>\n",
       "    </tr>\n",
       "    <tr>\n",
       "      <th>3511</th>\n",
       "      <td>6776</td>\n",
       "      <td>16495</td>\n",
       "      <td>0</td>\n",
       "      <td>17</td>\n",
       "      <td>False</td>\n",
       "      <td>False</td>\n",
       "      <td>True</td>\n",
       "      <td>False</td>\n",
       "      <td>False</td>\n",
       "      <td>False</td>\n",
       "      <td>30</td>\n",
       "      <td>4</td>\n",
       "      <td>27</td>\n",
       "      <td>139</td>\n",
       "    </tr>\n",
       "    <tr>\n",
       "      <th>3512</th>\n",
       "      <td>2755</td>\n",
       "      <td>6824</td>\n",
       "      <td>0</td>\n",
       "      <td>17</td>\n",
       "      <td>False</td>\n",
       "      <td>False</td>\n",
       "      <td>True</td>\n",
       "      <td>False</td>\n",
       "      <td>False</td>\n",
       "      <td>False</td>\n",
       "      <td>32</td>\n",
       "      <td>8</td>\n",
       "      <td>29</td>\n",
       "      <td>136</td>\n",
       "    </tr>\n",
       "  </tbody>\n",
       "</table>\n",
       "<p>3513 rows × 14 columns</p>\n",
       "</div>"
      ],
      "text/plain": [
       "      retweet_count  favorite_count  is_retweet  Hour  weekday_1  weekday_2  \\\n",
       "0              9529           21906           1    12      False      False   \n",
       "1              9529           55601           0    12      False      False   \n",
       "2            141853          350860           0     7      False      False   \n",
       "3             23213           84254           0    16      False      False   \n",
       "4              7366           25336           0    13      False      False   \n",
       "...             ...             ...         ...   ...        ...        ...   \n",
       "3508           3434            9143           0    23      False      False   \n",
       "3509           3460            8581           0    21      False      False   \n",
       "3510           2108            6735           0    18      False      False   \n",
       "3511           6776           16495           0    17      False      False   \n",
       "3512           2755            6824           0    17      False      False   \n",
       "\n",
       "      weekday_3  weekday_4  weekday_5  weekday_6  length_of_tweet  \\\n",
       "0         False      False       True      False               12   \n",
       "1         False      False       True      False                8   \n",
       "2         False      False       True      False               32   \n",
       "3         False       True      False      False               29   \n",
       "4         False       True      False      False               21   \n",
       "...         ...        ...        ...        ...              ...   \n",
       "3508       True      False      False      False                6   \n",
       "3509       True      False      False      False               15   \n",
       "3510       True      False      False      False               31   \n",
       "3511       True      False      False      False               30   \n",
       "3512       True      False      False      False               32   \n",
       "\n",
       "      punctuation_length  num_of_unique_words  number_of_characters  \n",
       "0                      9                   10                    75  \n",
       "1                      7                    8                    54  \n",
       "2                      4                   28                   137  \n",
       "3                      8                   26                   121  \n",
       "4                     13                   19                   121  \n",
       "...                  ...                  ...                   ...  \n",
       "3508                   7                    6                    45  \n",
       "3509                  13                   13                    79  \n",
       "3510                   8                   28                   134  \n",
       "3511                   4                   27                   139  \n",
       "3512                   8                   29                   136  \n",
       "\n",
       "[3513 rows x 14 columns]"
      ]
     },
     "execution_count": 51,
     "metadata": {},
     "output_type": "execute_result"
    }
   ],
   "source": [
    "DF1"
   ]
  },
  {
   "cell_type": "code",
   "execution_count": 52,
   "metadata": {},
   "outputs": [],
   "source": [
    "DF = pd.concat([DF1, bow_df], axis = 1)"
   ]
  },
  {
   "cell_type": "code",
   "execution_count": 53,
   "metadata": {},
   "outputs": [],
   "source": [
    "from sklearn.preprocessing import StandardScaler"
   ]
  },
  {
   "cell_type": "code",
   "execution_count": 54,
   "metadata": {},
   "outputs": [],
   "source": [
    "sc= StandardScaler()"
   ]
  },
  {
   "cell_type": "code",
   "execution_count": 55,
   "metadata": {},
   "outputs": [],
   "source": [
    "tweets[\"label\"] = tweets[\"target_name\"].replace({'Twitter for iPhone':0, 'Twitter for Android':1})"
   ]
  },
  {
   "cell_type": "code",
   "execution_count": 56,
   "metadata": {},
   "outputs": [
    {
     "data": {
      "text/plain": [
       "label\n",
       "0    1823\n",
       "1    1690\n",
       "Name: count, dtype: int64"
      ]
     },
     "execution_count": 56,
     "metadata": {},
     "output_type": "execute_result"
    }
   ],
   "source": [
    "tweets[\"label\"].value_counts()"
   ]
  },
  {
   "cell_type": "markdown",
   "metadata": {},
   "source": [
    "# FULL DF"
   ]
  },
  {
   "cell_type": "code",
   "execution_count": 57,
   "metadata": {},
   "outputs": [],
   "source": [
    "from sklearn.model_selection import train_test_split\n",
    "\n",
    "X_train, X_test, y_train, y_test = train_test_split(DF,tweets[\"label\"], test_size=0.2, random_state=0, \n",
    "                                                    stratify=tweets[\"label\"])\n",
    "X_train = X_train.reset_index(drop=True)\n",
    "X_test = X_test.reset_index(drop=True)"
   ]
  },
  {
   "cell_type": "code",
   "execution_count": 58,
   "metadata": {},
   "outputs": [],
   "source": [
    "X_train_scaled = sc.fit_transform(X_train)\n",
    "X_test_scaled = sc.transform(X_test)"
   ]
  },
  {
   "cell_type": "code",
   "execution_count": null,
   "metadata": {},
   "outputs": [],
   "source": []
  },
  {
   "cell_type": "code",
   "execution_count": 59,
   "metadata": {},
   "outputs": [],
   "source": [
    "from sklearn.metrics import f1_score, classification_report, confusion_matrix"
   ]
  },
  {
   "cell_type": "code",
   "execution_count": 60,
   "metadata": {},
   "outputs": [
    {
     "name": "stdout",
     "output_type": "stream",
     "text": [
      "Accuracy sur le train :  0.9865871833084949\n",
      "Accuracy sur le test :  0.717948717948718\n",
      "\n",
      "----------------------------\n",
      "\n",
      "Classification report sur le test : \n",
      "               precision    recall  f1-score   support\n",
      "\n",
      "           0       0.74      0.76      0.75       365\n",
      "           1       0.73      0.70      0.72       338\n",
      "\n",
      "    accuracy                           0.73       703\n",
      "   macro avg       0.73      0.73      0.73       703\n",
      "weighted avg       0.73      0.73      0.73       703\n",
      "\n"
     ]
    }
   ],
   "source": [
    "lr = LogisticRegression(C=1.0)\n",
    "lr.fit(X_train_scaled, y_train)\n",
    "\n",
    "y_pred_train = lr.predict(X_train_scaled)\n",
    "y_pred = lr.predict(X_test_scaled)\n",
    "\n",
    "print(\"Accuracy sur le train : \", f1_score(y_train, y_pred_train))\n",
    "print(\"Accuracy sur le test : \", f1_score(y_test, y_pred))\n",
    "print('\\n----------------------------\\n')\n",
    "print(\"Classification report sur le test : \\n\", classification_report(y_test, y_pred))"
   ]
  },
  {
   "cell_type": "code",
   "execution_count": 61,
   "metadata": {},
   "outputs": [
    {
     "data": {
      "text/plain": [
       "array([[278,  87],\n",
       "       [100, 238]], dtype=int64)"
      ]
     },
     "execution_count": 61,
     "metadata": {},
     "output_type": "execute_result"
    }
   ],
   "source": [
    "confusion_matrix(y_test, y_pred)"
   ]
  },
  {
   "cell_type": "code",
   "execution_count": 62,
   "metadata": {},
   "outputs": [],
   "source": [
    "import xgboost as xgb"
   ]
  },
  {
   "cell_type": "code",
   "execution_count": 63,
   "metadata": {},
   "outputs": [
    {
     "name": "stdout",
     "output_type": "stream",
     "text": [
      "F1score sur le train :  0.9803630974434977\n",
      "F1score sur le test :  0.8513119533527697\n",
      "\n",
      "----------------------------\n",
      "\n",
      "Classification report sur le test : \n",
      "               precision    recall  f1-score   support\n",
      "\n",
      "           0       0.87      0.85      0.86       365\n",
      "           1       0.84      0.86      0.85       338\n",
      "\n",
      "    accuracy                           0.85       703\n",
      "   macro avg       0.85      0.86      0.85       703\n",
      "weighted avg       0.86      0.85      0.85       703\n",
      "\n"
     ]
    }
   ],
   "source": [
    "GBC = xgb.XGBClassifier()\n",
    "GBC.fit(X_train_scaled, y_train)\n",
    "\n",
    "y_pred_train = GBC.predict(X_train_scaled)\n",
    "y_pred = GBC.predict(X_test_scaled)\n",
    "\n",
    "print(\"F1score sur le train : \", f1_score(y_train, y_pred_train))\n",
    "print(\"F1score sur le test : \", f1_score(y_test, y_pred))\n",
    "print('\\n----------------------------\\n')\n",
    "print(\"Classification report sur le test : \\n\", classification_report(y_test, y_pred))"
   ]
  },
  {
   "cell_type": "code",
   "execution_count": 65,
   "metadata": {},
   "outputs": [],
   "source": [
    "# from sklearn.model_selection import GridSearchCV\n",
    "\n",
    "# tuned_parameters = [{'max_depth': [10, 100, 1000], 'n_estimators': [10, 30, 100], 'learning_rate': [0.01, 0.1],\n",
    "#                      'subsample':[1, 0.9, 0.8]}]\n",
    "\n",
    "# clf = GridSearchCV(xgb.XGBClassifier(), tuned_parameters, cv=5, scoring='f1')\n",
    "# clf.fit(X_train_scaled, y_train)\n",
    "\n",
    "# y_pred_train = clf.predict(X_train_scaled)\n",
    "# y_pred = clf.predict(X_test_scaled)\n",
    "\n",
    "# print(\"F1score sur le train : \", f1_score(y_train, y_pred_train))\n",
    "# print(\"F1score sur le test : \", f1_score(y_test, y_pred))\n",
    "# print('\\n----------------------------\\n')\n",
    "# print(\"Classification report sur le test : \\n\", classification_report(y_test, y_pred))"
   ]
  },
  {
   "cell_type": "code",
   "execution_count": 66,
   "metadata": {},
   "outputs": [
    {
     "name": "stdout",
     "output_type": "stream",
     "text": [
      "F1score sur le train :  0.9803630974434977\n",
      "F1score sur le test :  0.8513119533527697\n",
      "\n",
      "----------------------------\n",
      "\n",
      "Classification report sur le test : \n",
      "               precision    recall  f1-score   support\n",
      "\n",
      "           0       0.87      0.85      0.86       365\n",
      "           1       0.84      0.86      0.85       338\n",
      "\n",
      "    accuracy                           0.85       703\n",
      "   macro avg       0.85      0.86      0.85       703\n",
      "weighted avg       0.86      0.85      0.85       703\n",
      "\n"
     ]
    }
   ],
   "source": [
    "print(\"F1score sur le train : \", f1_score(y_train, y_pred_train))\n",
    "print(\"F1score sur le test : \", f1_score(y_test, y_pred))\n",
    "print('\\n----------------------------\\n')\n",
    "print(\"Classification report sur le test : \\n\", classification_report(y_test, y_pred))"
   ]
  },
  {
   "cell_type": "code",
   "execution_count": null,
   "metadata": {},
   "outputs": [],
   "source": []
  },
  {
   "cell_type": "markdown",
   "metadata": {},
   "source": [
    "# DF feature engineering only"
   ]
  },
  {
   "cell_type": "code",
   "execution_count": 68,
   "metadata": {},
   "outputs": [],
   "source": [
    "from sklearn.model_selection import train_test_split\n",
    "\n",
    "X_train, X_test, y_train, y_test = train_test_split(DF1,tweets[\"label\"], test_size=0.2, random_state=0, \n",
    "                                                    stratify=tweets[\"label\"])\n",
    "X_train = X_train.reset_index(drop=True)\n",
    "X_test = X_test.reset_index(drop=True)\n",
    "X_train_scaled = sc.fit_transform(X_train)\n",
    "X_test_scaled = sc.transform(X_test)"
   ]
  },
  {
   "cell_type": "code",
   "execution_count": 69,
   "metadata": {},
   "outputs": [],
   "source": [
    "# from sklearn.model_selection import GridSearchCV\n",
    "\n",
    "# tuned_parameters = [{'max_depth': [10, 100, 1000], 'n_estimators': [10, 30, 100], 'learning_rate': [0.01, 0.1],\n",
    "#                      'subsample':[1, 0.9, 0.8]}]\n",
    "\n",
    "# clf = GridSearchCV(xgb.XGBClassifier(), tuned_parameters, cv=5, scoring='f1')\n",
    "# clf.fit(X_train_scaled, y_train)\n",
    "\n",
    "# y_pred_train = clf.predict(X_train_scaled)\n",
    "# y_pred = clf.predict(X_test_scaled)\n",
    "\n",
    "# print(\"F1score sur le train : \", f1_score(y_train, y_pred_train))\n",
    "# print(\"F1score sur le test : \", f1_score(y_test, y_pred))\n",
    "# print('\\n----------------------------\\n')\n",
    "# print(\"Classification report sur le test : \\n\", classification_report(y_test, y_pred))"
   ]
  },
  {
   "cell_type": "code",
   "execution_count": 70,
   "metadata": {},
   "outputs": [
    {
     "name": "stdout",
     "output_type": "stream",
     "text": [
      "F1score sur le train :  0.9803630974434977\n",
      "F1score sur le test :  0.8513119533527697\n",
      "\n",
      "----------------------------\n",
      "\n",
      "Classification report sur le test : \n",
      "               precision    recall  f1-score   support\n",
      "\n",
      "           0       0.87      0.85      0.86       365\n",
      "           1       0.84      0.86      0.85       338\n",
      "\n",
      "    accuracy                           0.85       703\n",
      "   macro avg       0.85      0.86      0.85       703\n",
      "weighted avg       0.86      0.85      0.85       703\n",
      "\n"
     ]
    }
   ],
   "source": [
    "print(\"F1score sur le train : \", f1_score(y_train, y_pred_train))\n",
    "print(\"F1score sur le test : \", f1_score(y_test, y_pred))\n",
    "print('\\n----------------------------\\n')\n",
    "print(\"Classification report sur le test : \\n\", classification_report(y_test, y_pred))"
   ]
  },
  {
   "cell_type": "code",
   "execution_count": null,
   "metadata": {},
   "outputs": [],
   "source": []
  },
  {
   "cell_type": "markdown",
   "metadata": {},
   "source": [
    "# BOW only"
   ]
  },
  {
   "cell_type": "code",
   "execution_count": 103,
   "metadata": {},
   "outputs": [],
   "source": [
    "x = tweets['text'].apply(process)"
   ]
  },
  {
   "cell_type": "code",
   "execution_count": 104,
   "metadata": {},
   "outputs": [],
   "source": [
    "y = tweets['target_name'].replace({'Twitter for iPhone':0, 'Twitter for Android':1})"
   ]
  },
  {
   "cell_type": "code",
   "execution_count": 105,
   "metadata": {},
   "outputs": [],
   "source": [
    "from sklearn.model_selection import train_test_split\n",
    "\n",
    "X_train, X_test, y_train, y_test = train_test_split(x,y, test_size=0.2, random_state=0, \n",
    "                                                    stratify=y)"
   ]
  },
  {
   "cell_type": "code",
   "execution_count": 106,
   "metadata": {},
   "outputs": [],
   "source": [
    "vectorizer = CountVectorizer(analyzer=lambda x: x)"
   ]
  },
  {
   "cell_type": "code",
   "execution_count": 107,
   "metadata": {},
   "outputs": [
    {
     "data": {
      "text/plain": [
       "CountVectorizer(analyzer=<function <lambda> at 0x000002B04DF3A310>)"
      ]
     },
     "execution_count": 107,
     "metadata": {},
     "output_type": "execute_result"
    }
   ],
   "source": [
    "vectorizer.fit(X_train)"
   ]
  },
  {
   "cell_type": "code",
   "execution_count": 108,
   "metadata": {},
   "outputs": [],
   "source": [
    "X_train_bow = pd.DataFrame(vectorizer.transform(X_train).toarray(), columns=vectorizer.get_feature_names_out())\n",
    "X_test_bow = pd.DataFrame(vectorizer.transform(X_test).toarray(), columns=vectorizer.get_feature_names_out())"
   ]
  },
  {
   "cell_type": "code",
   "execution_count": 109,
   "metadata": {},
   "outputs": [
    {
     "name": "stdout",
     "output_type": "stream",
     "text": [
      "F1score sur le train :  0.8577929465301479\n",
      "F1score sur le test :  0.7006172839506173\n",
      "\n",
      "----------------------------\n",
      "\n",
      "Classification report sur le test : \n",
      "               precision    recall  f1-score   support\n",
      "\n",
      "           0       0.72      0.77      0.74       365\n",
      "           1       0.73      0.67      0.70       338\n",
      "\n",
      "    accuracy                           0.72       703\n",
      "   macro avg       0.72      0.72      0.72       703\n",
      "weighted avg       0.72      0.72      0.72       703\n",
      "\n"
     ]
    }
   ],
   "source": [
    "GBC = xgb.XGBClassifier()\n",
    "GBC.fit(X_train_bow, y_train)\n",
    "\n",
    "y_pred_train = GBC.predict(X_train_bow)\n",
    "y_pred = GBC.predict(X_test_bow)\n",
    "\n",
    "print(\"F1score sur le train : \", f1_score(y_train, y_pred_train))\n",
    "print(\"F1score sur le test : \", f1_score(y_test, y_pred))\n",
    "print('\\n----------------------------\\n')\n",
    "print(\"Classification report sur le test : \\n\", classification_report(y_test, y_pred))"
   ]
  },
  {
   "cell_type": "markdown",
   "metadata": {},
   "source": [
    "# BOW only - with no prepro (done by count vecto)"
   ]
  },
  {
   "cell_type": "code",
   "execution_count": 110,
   "metadata": {},
   "outputs": [],
   "source": [
    "x = tweets['text']\n",
    "y = tweets['target_name'].replace({'Twitter for iPhone':0, 'Twitter for Android':1})"
   ]
  },
  {
   "cell_type": "code",
   "execution_count": 111,
   "metadata": {},
   "outputs": [],
   "source": [
    "from sklearn.model_selection import train_test_split\n",
    "\n",
    "X_train, X_test, y_train, y_test = train_test_split(x,y, test_size=0.2, random_state=0, \n",
    "                                                    stratify=y)"
   ]
  },
  {
   "cell_type": "code",
   "execution_count": 112,
   "metadata": {},
   "outputs": [],
   "source": [
    "vectorizer = CountVectorizer(stop_words='english')"
   ]
  },
  {
   "cell_type": "code",
   "execution_count": 113,
   "metadata": {},
   "outputs": [
    {
     "data": {
      "text/plain": [
       "CountVectorizer(stop_words='english')"
      ]
     },
     "execution_count": 113,
     "metadata": {},
     "output_type": "execute_result"
    }
   ],
   "source": [
    "vectorizer.fit(X_train)"
   ]
  },
  {
   "cell_type": "code",
   "execution_count": 114,
   "metadata": {},
   "outputs": [],
   "source": [
    "X_train_bow = pd.DataFrame(vectorizer.transform(X_train).toarray(), columns=vectorizer.get_feature_names_out())\n",
    "X_test_bow = pd.DataFrame(vectorizer.transform(X_test).toarray(), columns=vectorizer.get_feature_names_out())"
   ]
  },
  {
   "cell_type": "code",
   "execution_count": 115,
   "metadata": {},
   "outputs": [
    {
     "name": "stdout",
     "output_type": "stream",
     "text": [
      "F1score sur le train :  0.9121574139142656\n",
      "F1score sur le test :  0.8551724137931035\n",
      "\n",
      "----------------------------\n",
      "\n",
      "Classification report sur le test : \n",
      "               precision    recall  f1-score   support\n",
      "\n",
      "           0       0.91      0.79      0.85       365\n",
      "           1       0.80      0.92      0.86       338\n",
      "\n",
      "    accuracy                           0.85       703\n",
      "   macro avg       0.86      0.85      0.85       703\n",
      "weighted avg       0.86      0.85      0.85       703\n",
      "\n"
     ]
    }
   ],
   "source": [
    "GBC = xgb.XGBClassifier()\n",
    "GBC.fit(X_train_bow, y_train)\n",
    "\n",
    "y_pred_train = GBC.predict(X_train_bow)\n",
    "y_pred = GBC.predict(X_test_bow)\n",
    "\n",
    "print(\"F1score sur le train : \", f1_score(y_train, y_pred_train))\n",
    "print(\"F1score sur le test : \", f1_score(y_test, y_pred))\n",
    "print('\\n----------------------------\\n')\n",
    "print(\"Classification report sur le test : \\n\", classification_report(y_test, y_pred))"
   ]
  },
  {
   "cell_type": "markdown",
   "metadata": {},
   "source": [
    "# BOW only - with no prepro (done by count vecto) - reduced max features to 20"
   ]
  },
  {
   "cell_type": "code",
   "execution_count": 116,
   "metadata": {},
   "outputs": [],
   "source": [
    "x = tweets['text']\n",
    "y = tweets['target_name'].replace({'Twitter for iPhone':0, 'Twitter for Android':1})"
   ]
  },
  {
   "cell_type": "code",
   "execution_count": 117,
   "metadata": {},
   "outputs": [],
   "source": [
    "from sklearn.model_selection import train_test_split\n",
    "\n",
    "X_train, X_test, y_train, y_test = train_test_split(x,y, test_size=0.2, random_state=0, \n",
    "                                                    stratify=y)"
   ]
  },
  {
   "cell_type": "code",
   "execution_count": 138,
   "metadata": {},
   "outputs": [],
   "source": [
    "vectorizer = CountVectorizer(stop_words='english', max_features=20)"
   ]
  },
  {
   "cell_type": "code",
   "execution_count": 139,
   "metadata": {},
   "outputs": [
    {
     "data": {
      "text/plain": [
       "CountVectorizer(max_features=20, stop_words='english')"
      ]
     },
     "execution_count": 139,
     "metadata": {},
     "output_type": "execute_result"
    }
   ],
   "source": [
    "vectorizer.fit(X_train)"
   ]
  },
  {
   "cell_type": "code",
   "execution_count": 140,
   "metadata": {},
   "outputs": [],
   "source": [
    "X_train_bow = pd.DataFrame(vectorizer.transform(X_train).toarray(), columns=vectorizer.get_feature_names_out())\n",
    "X_test_bow = pd.DataFrame(vectorizer.transform(X_test).toarray(), columns=vectorizer.get_feature_names_out())"
   ]
  },
  {
   "cell_type": "code",
   "execution_count": 141,
   "metadata": {},
   "outputs": [
    {
     "name": "stdout",
     "output_type": "stream",
     "text": [
      "F1score sur le train :  0.8466957396846696\n",
      "F1score sur le test :  0.8216216216216216\n",
      "\n",
      "----------------------------\n",
      "\n",
      "Classification report sur le test : \n",
      "               precision    recall  f1-score   support\n",
      "\n",
      "           0       0.89      0.73      0.80       365\n",
      "           1       0.76      0.90      0.82       338\n",
      "\n",
      "    accuracy                           0.81       703\n",
      "   macro avg       0.82      0.82      0.81       703\n",
      "weighted avg       0.82      0.81      0.81       703\n",
      "\n"
     ]
    }
   ],
   "source": [
    "GBC = xgb.XGBClassifier()\n",
    "GBC.fit(X_train_bow, y_train)\n",
    "\n",
    "y_pred_train = GBC.predict(X_train_bow)\n",
    "y_pred = GBC.predict(X_test_bow)\n",
    "\n",
    "print(\"F1score sur le train : \", f1_score(y_train, y_pred_train))\n",
    "print(\"F1score sur le test : \", f1_score(y_test, y_pred))\n",
    "print('\\n----------------------------\\n')\n",
    "print(\"Classification report sur le test : \\n\", classification_report(y_test, y_pred))"
   ]
  },
  {
   "cell_type": "markdown",
   "metadata": {},
   "source": [
    "### with only 20 features, the model runs faster and is performing not so bad"
   ]
  },
  {
   "cell_type": "code",
   "execution_count": 152,
   "metadata": {},
   "outputs": [
    {
     "data": {
      "text/plain": [
       "'tokens/features that count the most are : 2016 | america | amp | clinton | crooked | cruz | false | great | hillary | https | just | make | makeamericagreatagain | new | people | realdonaldtrump | thank | trump | trump2016 | twitter'"
      ]
     },
     "execution_count": 152,
     "metadata": {},
     "output_type": "execute_result"
    }
   ],
   "source": [
    "f\"tokens/features that count the most are : {' | '.join(vectorizer.get_feature_names_out())}\""
   ]
  },
  {
   "cell_type": "code",
   "execution_count": null,
   "metadata": {},
   "outputs": [],
   "source": []
  }
 ],
 "metadata": {
  "kernelspec": {
   "display_name": "Python 3 (ipykernel)",
   "language": "python",
   "name": "python3"
  },
  "language_info": {
   "codemirror_mode": {
    "name": "ipython",
    "version": 3
   },
   "file_extension": ".py",
   "mimetype": "text/x-python",
   "name": "python",
   "nbconvert_exporter": "python",
   "pygments_lexer": "ipython3",
   "version": "3.9.13"
  }
 },
 "nbformat": 4,
 "nbformat_minor": 4
}
