{
 "cells": [
  {
   "cell_type": "markdown",
   "metadata": {},
   "source": [
    "# 02-Similarity"
   ]
  },
  {
   "cell_type": "markdown",
   "metadata": {},
   "source": [
    "![](https://images.unsplash.com/photo-1489684141651-7e45b4e77b3a?ixlib=rb-1.2.1&ixid=eyJhcHBfaWQiOjEyMDd9&auto=format&fit=crop&w=1017&q=80)\n",
    "\n",
    "Photo by [Fancycrave](https://unsplash.com/photos/srd-rZ5fcFw)\n"
   ]
  },
  {
   "cell_type": "markdown",
   "metadata": {},
   "source": [
    "We will work on applying similarity: Jaccard and Cosine similarity. This exercise is a simple application of the lecture."
   ]
  },
  {
   "cell_type": "markdown",
   "metadata": {},
   "source": [
    "Begin by importing the needed libraries:"
   ]
  },
  {
   "cell_type": "code",
   "execution_count": 7,
   "metadata": {},
   "outputs": [],
   "source": [
    "# TODO: import needed libraries\n",
    "import numpy as np\n",
    "import pandas as pd\n",
    "from nltk.tokenize import word_tokenize\n",
    "import nltk\n",
    "from nltk.corpus import stopwords\n",
    "from nltk.stem import PorterStemmer\n",
    "from sklearn.feature_extraction.text import CountVectorizer\n",
    "from sklearn.feature_extraction.text import TfidfVectorizer"
   ]
  },
  {
   "cell_type": "markdown",
   "metadata": {},
   "source": [
    "We will work with the following examples:"
   ]
  },
  {
   "cell_type": "code",
   "execution_count": 8,
   "metadata": {},
   "outputs": [],
   "source": [
    "A = \"Outside the classroom, Stallman pursued his studies with even more diligence, rushing off to fulfill his laboratory-assistant duties at Rockefeller University during the week and dodging the Vietnam protesters on his way to Saturday school at Columbia. It was there, while the rest of the Science Honors Program students sat around discussing their college choices, that Stallman finally took a moment to participate in the preclass bull session.\"\n",
    "B = \"To facilitate the process, AI Lab hackers had built a system that displayed both the source and display modes on a split screen. Despite this innovative hack, switching from mode to mode was still a nuisance.\"\n",
    "C = \"With no dorm and no dancing, Stallman's social universe imploded. Like an astronaut experiencing the aftereffects of zero-gravity, Stallman found that his ability to interact with nonhackers, especially female nonhackers, had atrophied significantly. After 16 weeks in the AI Lab, the self confidence he'd been quietly accumulating during his 4 years at Harvard was virtually gone.\""
   ]
  },
  {
   "cell_type": "markdown",
   "metadata": {},
   "source": [
    "Begin by computing the Jaccard Similarity J of all possibilities:\n",
    "* J(A, B)\n",
    "* J(B, C)\n",
    "* J(A, C)"
   ]
  },
  {
   "cell_type": "code",
   "execution_count": 9,
   "metadata": {},
   "outputs": [
    {
     "data": {
      "text/plain": [
       "{'16',\n",
       " '4',\n",
       " 'AI',\n",
       " 'After',\n",
       " 'Harvard',\n",
       " 'Lab,',\n",
       " 'Like',\n",
       " 'Stallman',\n",
       " \"Stallman's\",\n",
       " 'With',\n",
       " 'ability',\n",
       " 'accumulating',\n",
       " 'aftereffects',\n",
       " 'an',\n",
       " 'and',\n",
       " 'astronaut',\n",
       " 'at',\n",
       " 'atrophied',\n",
       " 'been',\n",
       " 'confidence',\n",
       " 'dancing,',\n",
       " 'dorm',\n",
       " 'during',\n",
       " 'especially',\n",
       " 'experiencing',\n",
       " 'female',\n",
       " 'found',\n",
       " 'gone.',\n",
       " 'had',\n",
       " \"he'd\",\n",
       " 'his',\n",
       " 'imploded.',\n",
       " 'in',\n",
       " 'interact',\n",
       " 'no',\n",
       " 'nonhackers,',\n",
       " 'of',\n",
       " 'quietly',\n",
       " 'self',\n",
       " 'significantly.',\n",
       " 'social',\n",
       " 'that',\n",
       " 'the',\n",
       " 'to',\n",
       " 'universe',\n",
       " 'virtually',\n",
       " 'was',\n",
       " 'weeks',\n",
       " 'with',\n",
       " 'years',\n",
       " 'zero-gravity,'}"
      ]
     },
     "execution_count": 9,
     "metadata": {},
     "output_type": "execute_result"
    }
   ],
   "source": [
    "# TODO: compute the Jaccard similarities\n",
    "# Split the sentences\n",
    "tokens_A = set(A.split()) \n",
    "tokens_B = set(B.split())\n",
    "tokens_C = set(C.split())\n",
    "\n",
    "tokens_C"
   ]
  },
  {
   "cell_type": "code",
   "execution_count": 10,
   "metadata": {},
   "outputs": [
    {
     "name": "stdout",
     "output_type": "stream",
     "text": [
      "Jaccard AB: 0.08536585365853659\n",
      "Jaccard AC: 0.125\n",
      "Jaccard BC: 0.09210526315789473\n"
     ]
    }
   ],
   "source": [
    "intersection_AB = tokens_A.intersection(tokens_B)\n",
    "intersection_AC = tokens_A.intersection(tokens_C)\n",
    "intersection_BC = tokens_B.intersection(tokens_C)\n",
    "\n",
    "union_AB = tokens_A.union(tokens_B)\n",
    "union_AC = tokens_A.union(tokens_C)\n",
    "union_BC = tokens_B.union(tokens_C)\n",
    "\n",
    "Jacc_AB = len(intersection_AB) / len(union_AB)\n",
    "print(f'Jaccard AB: {Jacc_AB}')\n",
    "Jacc_AC = len(intersection_AC) / len(union_AC)\n",
    "print(f'Jaccard AC: {Jacc_AC}')\n",
    "Jacc_BC = len(intersection_BC) / len(union_BC)\n",
    "print(f'Jaccard BC: {Jacc_BC}')\n",
    "\n",
    "#A and C are the closest acc to Jaccard sim\n",
    "\n"
   ]
  },
  {
   "cell_type": "markdown",
   "metadata": {},
   "source": [
    "What are the closest to the other according to Jaccard Similarity?\n",
    "\n",
    "Now let's do the same using TF-IDF and Cosine Similarity. Compute the TF-IDF and cosine similarities and print them."
   ]
  },
  {
   "cell_type": "code",
   "execution_count": 15,
   "metadata": {
    "scrolled": true
   },
   "outputs": [
    {
     "data": {
      "text/plain": [
       "(3, 83)"
      ]
     },
     "execution_count": 15,
     "metadata": {},
     "output_type": "execute_result"
    }
   ],
   "source": [
    "# TODO: compute the TF-IDF of A, B and C and the cosine similarities of all possibilities\n",
    "vectorizer = TfidfVectorizer(stop_words='english')\n",
    "tf_idf = vectorizer.fit_transform([A, B, C]).toarray()\n",
    "tf_idf.shape\n",
    "pd.DataFrame(data = tf_idf, columns=vectorizer.get_feature_names_out())\n"
   ]
  },
  {
   "cell_type": "code",
   "execution_count": 16,
   "metadata": {},
   "outputs": [
    {
     "name": "stdout",
     "output_type": "stream",
     "text": [
      "[[1.         0.         0.06366317]\n",
      " [0.         1.         0.04388579]\n",
      " [0.06366317 0.04388579 1.        ]]\n"
     ]
    }
   ],
   "source": [
    "from sklearn.metrics import pairwise\n",
    "print(pairwise.cosine_similarity(tf_idf))\n",
    "## the coefs of similarities are lower vs Jaccard\n",
    "## still A and C are the most similar\n"
   ]
  },
  {
   "cell_type": "markdown",
   "metadata": {},
   "source": [
    "Is it consistent with the Jaccard values?"
   ]
  },
  {
   "cell_type": "markdown",
   "metadata": {},
   "source": [
    "Now compute by hand the cosinus similarity and check the result"
   ]
  },
  {
   "cell_type": "code",
   "execution_count": null,
   "metadata": {},
   "outputs": [],
   "source": [
    "# TODO: compute the TF-IDF of A, B and C and the cosine similarities of all possibilities\n",
    "## je le ferai + tard"
   ]
  }
 ],
 "metadata": {
  "kernelspec": {
   "display_name": "Python 3",
   "language": "python",
   "name": "python3"
  },
  "language_info": {
   "codemirror_mode": {
    "name": "ipython",
    "version": 3
   },
   "file_extension": ".py",
   "mimetype": "text/x-python",
   "name": "python",
   "nbconvert_exporter": "python",
   "pygments_lexer": "ipython3",
   "version": "3.10.12"
  },
  "toc": {
   "base_numbering": 1,
   "nav_menu": {},
   "number_sections": true,
   "sideBar": true,
   "skip_h1_title": false,
   "title_cell": "Table of Contents",
   "title_sidebar": "Contents",
   "toc_cell": false,
   "toc_position": {},
   "toc_section_display": true,
   "toc_window_display": false
  }
 },
 "nbformat": 4,
 "nbformat_minor": 2
}
